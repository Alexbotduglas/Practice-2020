{
 "cells": [
  {
   "cell_type": "code",
   "execution_count": 1,
   "metadata": {},
   "outputs": [],
   "source": [
    "%matplotlib inline\n",
    "\n",
    "import numpy as np\n",
    "import pandas as pd\n",
    "import matplotlib.pyplot as plt\n",
    "\n",
    "#import chart_studio.plotly as plot_mpl\n",
    "import plotly.graph_objs as go\n",
    "import xgboost as xgb\n",
    "#import keras.backend as K\n",
    "#import tensorflow as tf\n",
    "\n",
    "from math import sqrt\n",
    "from datetime import datetime\n",
    "from statsmodels.tsa.stattools import adfuller\n",
    "#from pyramid.arima import auto_arima\n",
    "\n",
    "from socket import socket\n",
    "from statsmodels.tsa.seasonal import seasonal_decompose\n",
    "\n",
    "#from keras.models import Sequential\n",
    "#from keras.layers import Conv1D, LSTM, TimeDistributed, Dense\n",
    "#from keras.optimizers import Adam\n",
    "#from keras.callbacks import EarlyStopping\n",
    "\n",
    "from sklearn.model_selection import GridSearchCV\n",
    "from sklearn.preprocessing import MinMaxScaler\n",
    "from sklearn.metrics import mean_squared_error, mean_absolute_error, mean_squared_log_error"
   ]
  },
  {
   "cell_type": "code",
   "execution_count": 2,
   "metadata": {},
   "outputs": [
    {
     "name": "stdout",
     "output_type": "stream",
     "text": [
      "Populating the interactive namespace from numpy and matplotlib\n"
     ]
    },
    {
     "name": "stderr",
     "output_type": "stream",
     "text": [
      "C:\\ProgramData\\Anaconda3\\lib\\site-packages\\IPython\\core\\magics\\pylab.py:160: UserWarning: pylab import has clobbered these variables: ['sqrt', 'datetime']\n",
      "`%matplotlib` prevents importing * from pylab and numpy\n",
      "  \"\\n`%matplotlib` prevents importing * from pylab and numpy\"\n"
     ]
    }
   ],
   "source": [
    "%pylab inline\n",
    "import pandas as pd\n",
    "from scipy import stats\n",
    "import statsmodels.api as sm\n",
    "import matplotlib.pyplot as plt\n",
    "import warnings\n",
    "from itertools import product"
   ]
  },
  {
   "cell_type": "code",
   "execution_count": 91,
   "metadata": {},
   "outputs": [],
   "source": [
    "train = pd.read_csv('C:/Users/user/Desktop/VASYA3.csv')"
   ]
  },
  {
   "cell_type": "code",
   "execution_count": 4,
   "metadata": {},
   "outputs": [
    {
     "data": {
      "text/plain": [
       "data    object\n",
       "RTSI     int64\n",
       "dtype: object"
      ]
     },
     "execution_count": 4,
     "metadata": {},
     "output_type": "execute_result"
    }
   ],
   "source": [
    "train.dtypes"
   ]
  },
  {
   "cell_type": "markdown",
   "metadata": {},
   "source": [
    "# Предварительная обработка"
   ]
  },
  {
   "cell_type": "code",
   "execution_count": 5,
   "metadata": {},
   "outputs": [],
   "source": [
    "train = train.set_index(['data'])"
   ]
  },
  {
   "cell_type": "code",
   "execution_count": 6,
   "metadata": {},
   "outputs": [],
   "source": [
    "train.index = pd.to_datetime(train.index)"
   ]
  },
  {
   "cell_type": "code",
   "execution_count": 7,
   "metadata": {},
   "outputs": [
    {
     "data": {
      "text/plain": [
       "RTSI    int64\n",
       "dtype: object"
      ]
     },
     "execution_count": 7,
     "metadata": {},
     "output_type": "execute_result"
    }
   ],
   "source": [
    "train.dtypes"
   ]
  },
  {
   "cell_type": "markdown",
   "metadata": {},
   "source": [
    "# Стационарный контроль\n",
    "Если достигаемый уровень знаимости меньше 0,005, мы можем сказать, что есть стационарность, иначе ее нет \n",
    "\n",
    "Если в наших данных нет стационарности, я планирую использовать дифференцирование"
   ]
  },
  {
   "cell_type": "code",
   "execution_count": 12,
   "metadata": {},
   "outputs": [],
   "source": [
    "class Stationary:\n",
    "    def __init__(self, significance=.005):\n",
    "        self.SignificanceLevel = significance\n",
    "        self.pValue = None\n",
    "        self.isStationary = None\n",
    "\n",
    "    def ADF_Stationarity_Test(self, timeseries, printResults=True):\n",
    "\n",
    "        # Критерий Дики-Фуллера:\n",
    "        print(timeseries)\n",
    "        try:\n",
    "            adfTest = adfuller(timeseries, autolag='AIC')\n",
    "\n",
    "            self.pValue = adfTest[1]\n",
    "\n",
    "            if (self.pValue < self.SignificanceLevel):\n",
    "                self.isStationary = True\n",
    "            else:\n",
    "                self.isStationary = False\n",
    "            #self.isStationary=True\n",
    "            if printResults:\n",
    "                dfResults = pd.Series(adfTest[0:4],\n",
    "                                      index=['ADF Test Statistic', 'P-Value', '# Lags Used', '# Observations Used'])\n",
    "\n",
    "                # Добавить критические значения\n",
    "                for key, value in adfTest[4].items():\n",
    "                    dfResults['Critical Value (%s)' % key] = value\n",
    "\n",
    "                print('Augmented Dickey-Fuller Test Results:')\n",
    "                print(dfResults)\n",
    "        except Exception as e:\n",
    "          print(e)\n",
    "          self.isStationary = False"
   ]
  },
  {
   "cell_type": "code",
   "execution_count": 9,
   "metadata": {},
   "outputs": [],
   "source": [
    "sTest = Stationary()"
   ]
  },
  {
   "cell_type": "code",
   "execution_count": null,
   "metadata": {},
   "outputs": [],
   "source": []
  },
  {
   "cell_type": "markdown",
   "metadata": {},
   "source": [
    "# Создаем дифференцированный ряд "
   ]
  },
  {
   "cell_type": "code",
   "execution_count": 24,
   "metadata": {},
   "outputs": [],
   "source": [
    "# create a differenced series\n",
    "def difference(dataset, interval=1):\n",
    "    diff = list()\n",
    "    for i in range(interval, len(dataset)):\n",
    "        value = dataset[i] - dataset[i - interval]\n",
    "        # print(interval, dataset[i], dataset[i - interval])\n",
    "        diff.append(value)\n",
    "    return pd.Series(diff)"
   ]
  },
  {
   "cell_type": "code",
   "execution_count": 25,
   "metadata": {},
   "outputs": [],
   "source": [
    "diff_values = difference(train['RTSI'], 1)"
   ]
  },
  {
   "cell_type": "markdown",
   "metadata": {},
   "source": [
    "# разделим данные на тестовую и обучающую "
   ]
  },
  {
   "cell_type": "code",
   "execution_count": 26,
   "metadata": {},
   "outputs": [],
   "source": [
    "#xtrain, xtest = diff_values[0:-23], diff_values[-23:]"
   ]
  },
  {
   "cell_type": "code",
   "execution_count": 27,
   "metadata": {},
   "outputs": [],
   "source": [
    "diff_values = difference(train['RTSI'], 1)"
   ]
  },
  {
   "cell_type": "code",
   "execution_count": 28,
   "metadata": {},
   "outputs": [],
   "source": [
    "xtrain, xtest = diff_values[0:-23], diff_values[-23:]"
   ]
  },
  {
   "cell_type": "code",
   "execution_count": null,
   "metadata": {},
   "outputs": [],
   "source": []
  },
  {
   "cell_type": "markdown",
   "metadata": {},
   "source": [
    "# Сформулируем последовательность как задачу обучения с учителем"
   ]
  },
  {
   "cell_type": "code",
   "execution_count": 30,
   "metadata": {},
   "outputs": [],
   "source": [
    "def timeseries_to_supervised(data, lag=1):\n",
    "    dfx = pd.DataFrame(data)\n",
    "    df = dfx.assign(**{\n",
    "        '{} (t-{})'.format(col, t): dfx[col].shift(t)\n",
    "        for t in range(lag+1)\n",
    "        for col in dfx\n",
    "    })\n",
    "\n",
    "    df=df.drop([df.columns[0]], axis=1)\n",
    "    df=df[df.columns[::-1]]\n",
    "    return df[lag:]"
   ]
  },
  {
   "cell_type": "markdown",
   "metadata": {},
   "source": [
    "# Масштабируем тренировочные и тестовые данные до [-1, 1] с помощью MinMaxScaler"
   ]
  },
  {
   "cell_type": "code",
   "execution_count": 31,
   "metadata": {},
   "outputs": [],
   "source": [
    "def scale(train, test):\n",
    "    # fit scaler\n",
    "    scaler = MinMaxScaler()  \n",
    "    \n",
    "    # StandardScaler()\n",
    "    scaler = scaler.fit(train)\n",
    "\n",
    "    # transform train\n",
    "    train = train.reshape(train.shape[0], train.shape[1])\n",
    "    tr_scaled = scaler.transform(train)\n",
    "\n",
    "    # transform test\n",
    "    test = test.reshape(test.shape[0], test.shape[1])\n",
    "    ts_scaled = scaler.transform(test)\n",
    "    \n",
    "    return scaler, tr_scaled, ts_scaled"
   ]
  },
  {
   "cell_type": "markdown",
   "metadata": {},
   "source": [
    "# Реорганизуем набор данных в соответствии с размером окна"
   ]
  },
  {
   "cell_type": "code",
   "execution_count": 33,
   "metadata": {},
   "outputs": [],
   "source": [
    "values_unscaled = np.concatenate((xtrain, xtest))\n",
    "supervised_raw = timeseries_to_supervised(values_unscaled, 12)"
   ]
  },
  {
   "cell_type": "code",
   "execution_count": null,
   "metadata": {},
   "outputs": [],
   "source": []
  },
  {
   "cell_type": "code",
   "execution_count": 35,
   "metadata": {},
   "outputs": [],
   "source": [
    "supervised_raw = supervised_raw.values.astype(\"float32\")"
   ]
  },
  {
   "cell_type": "code",
   "execution_count": 36,
   "metadata": {},
   "outputs": [
    {
     "data": {
      "text/plain": [
       "array([[18., -7., 15., ..., -3.,  0., 10.],\n",
       "       [-7., 15.,  7., ...,  0., 10., -2.],\n",
       "       [15.,  7.,  5., ..., 10., -2.,  8.],\n",
       "       ...,\n",
       "       [ 0., 13.,  0., ...,  4., 15., -2.],\n",
       "       [13.,  0., -4., ..., 15., -2.,  9.],\n",
       "       [ 0., -4., -6., ..., -2.,  9.,  7.]], dtype=float32)"
      ]
     },
     "execution_count": 36,
     "metadata": {},
     "output_type": "execute_result"
    }
   ],
   "source": [
    "supervised_raw"
   ]
  },
  {
   "cell_type": "code",
   "execution_count": 37,
   "metadata": {},
   "outputs": [],
   "source": [
    "scaler, train_scaled, test_scaled = scale(xtrain.values.reshape(len(xtrain), 1), xtest.values.reshape(len(xtest), 1))"
   ]
  },
  {
   "cell_type": "code",
   "execution_count": 38,
   "metadata": {},
   "outputs": [],
   "source": [
    "values_scaled = np.concatenate((train_scaled, test_scaled))"
   ]
  },
  {
   "cell_type": "code",
   "execution_count": 39,
   "metadata": {},
   "outputs": [],
   "source": [
    "supervised = timeseries_to_supervised(values_scaled, 12)\n",
    "\n",
    "supervised_values = supervised.values.astype('float32')"
   ]
  },
  {
   "cell_type": "markdown",
   "metadata": {},
   "source": [
    "### разделим контролируемые данные на обучающие и тестовые наборы"
   ]
  },
  {
   "cell_type": "code",
   "execution_count": 67,
   "metadata": {},
   "outputs": [],
   "source": [
    "supervised_train, supervised_test = supervised_raw[0:-23], supervised_raw[-23:]\n",
    "train_scaled, test_scaled = supervised_values[0:-23], supervised_values[-23:]"
   ]
  },
  {
   "cell_type": "code",
   "execution_count": 40,
   "metadata": {},
   "outputs": [
    {
     "data": {
      "text/plain": [
       "array([[0.66233766, 0.33766234, 0.6233766 , ..., 0.38961038, 0.42857143,\n",
       "        0.5584416 ],\n",
       "       [0.33766234, 0.6233766 , 0.5194805 , ..., 0.42857143, 0.5584416 ,\n",
       "        0.4025974 ],\n",
       "       [0.6233766 , 0.5194805 , 0.4935065 , ..., 0.5584416 , 0.4025974 ,\n",
       "        0.53246754],\n",
       "       ...,\n",
       "       [0.25974026, 0.38961038, 0.46753246, ..., 0.33766234, 0.53246754,\n",
       "        0.58441556],\n",
       "       [0.38961038, 0.46753246, 0.48051947, ..., 0.53246754, 0.58441556,\n",
       "        0.46753246],\n",
       "       [0.46753246, 0.48051947, 0.32467532, ..., 0.58441556, 0.46753246,\n",
       "        0.5064935 ]], dtype=float32)"
      ]
     },
     "execution_count": 40,
     "metadata": {},
     "output_type": "execute_result"
    }
   ],
   "source": [
    "train_scaled"
   ]
  },
  {
   "cell_type": "code",
   "execution_count": 41,
   "metadata": {},
   "outputs": [],
   "source": [
    "train_X, train_y = train_scaled[:, :-1], train_scaled[:, -1]\n",
    "test_X, test_y = test_scaled[:, :-1], test_scaled[:, -1]"
   ]
  },
  {
   "cell_type": "code",
   "execution_count": 42,
   "metadata": {},
   "outputs": [
    {
     "data": {
      "text/plain": [
       "array([[0.5584416 ],\n",
       "       [0.4025974 ],\n",
       "       [0.53246754],\n",
       "       [0.2857143 ],\n",
       "       [0.5974026 ],\n",
       "       [0.53246754],\n",
       "       [0.4935065 ],\n",
       "       [0.41558442],\n",
       "       [0.44155845],\n",
       "       [0.6103896 ],\n",
       "       [0.36363637],\n",
       "       [0.35064936],\n",
       "       [0.25974026],\n",
       "       [0.38961038],\n",
       "       [0.53246754],\n",
       "       [0.6103896 ],\n",
       "       [0.09090909],\n",
       "       [0.16883117],\n",
       "       [0.64935064],\n",
       "       [0.3116883 ],\n",
       "       [0.32467532],\n",
       "       [0.5974026 ],\n",
       "       [0.3116883 ],\n",
       "       [0.5584416 ],\n",
       "       [0.45454547],\n",
       "       [0.44155845],\n",
       "       [0.44155845],\n",
       "       [0.44155845],\n",
       "       [0.35064936],\n",
       "       [0.38961038],\n",
       "       [0.37662336],\n",
       "       [0.6103896 ],\n",
       "       [0.3116883 ],\n",
       "       [0.36363637],\n",
       "       [0.44155845],\n",
       "       [0.46753246],\n",
       "       [0.35064936],\n",
       "       [0.53246754],\n",
       "       [0.46753246],\n",
       "       [0.5064935 ],\n",
       "       [0.54545456],\n",
       "       [0.45454547],\n",
       "       [0.32467532],\n",
       "       [0.4935065 ],\n",
       "       [0.5194805 ],\n",
       "       [0.2857143 ],\n",
       "       [0.46753246],\n",
       "       [0.46753246],\n",
       "       [0.6233766 ],\n",
       "       [0.46753246],\n",
       "       [0.48051947],\n",
       "       [0.4935065 ],\n",
       "       [0.4935065 ],\n",
       "       [0.58441556],\n",
       "       [0.53246754],\n",
       "       [0.53246754],\n",
       "       [0.19480519],\n",
       "       [0.48051947],\n",
       "       [0.33766234],\n",
       "       [0.5064935 ],\n",
       "       [0.48051947],\n",
       "       [0.36363637],\n",
       "       [0.42857143],\n",
       "       [0.6103896 ],\n",
       "       [0.45454547],\n",
       "       [0.37662336],\n",
       "       [0.20779221],\n",
       "       [0.41558442],\n",
       "       [0.53246754],\n",
       "       [0.3116883 ],\n",
       "       [0.54545456],\n",
       "       [0.45454547],\n",
       "       [0.44155845],\n",
       "       [0.2987013 ],\n",
       "       [0.3116883 ],\n",
       "       [0.2987013 ],\n",
       "       [0.4025974 ],\n",
       "       [0.97402596],\n",
       "       [0.41558442],\n",
       "       [0.6753247 ],\n",
       "       [0.36363637],\n",
       "       [0.4025974 ],\n",
       "       [0.84415585],\n",
       "       [0.5714286 ],\n",
       "       [0.2857143 ],\n",
       "       [0.42857143],\n",
       "       [0.5194805 ],\n",
       "       [0.23376623],\n",
       "       [0.64935064],\n",
       "       [0.5714286 ],\n",
       "       [0.4935065 ],\n",
       "       [1.        ],\n",
       "       [0.16883117],\n",
       "       [0.38961038],\n",
       "       [0.6233766 ],\n",
       "       [0.44155845],\n",
       "       [0.53246754],\n",
       "       [0.35064936],\n",
       "       [0.4935065 ],\n",
       "       [0.27272728],\n",
       "       [0.36363637],\n",
       "       [0.6233766 ],\n",
       "       [0.38961038],\n",
       "       [0.58441556],\n",
       "       [0.24675325],\n",
       "       [0.44155845],\n",
       "       [0.37662336],\n",
       "       [0.58441556],\n",
       "       [0.45454547],\n",
       "       [0.35064936],\n",
       "       [0.8051948 ],\n",
       "       [0.42857143],\n",
       "       [0.54545456],\n",
       "       [0.5974026 ],\n",
       "       [0.32467532],\n",
       "       [0.36363637],\n",
       "       [0.45454547],\n",
       "       [0.22077923],\n",
       "       [0.2857143 ],\n",
       "       [0.22077923],\n",
       "       [0.4025974 ],\n",
       "       [0.07792208],\n",
       "       [0.35064936],\n",
       "       [0.38961038],\n",
       "       [0.36363637],\n",
       "       [0.53246754],\n",
       "       [0.24675325],\n",
       "       [0.6103896 ],\n",
       "       [0.6753247 ],\n",
       "       [0.53246754],\n",
       "       [0.4935065 ],\n",
       "       [0.45454547],\n",
       "       [0.2987013 ],\n",
       "       [0.        ],\n",
       "       [0.3116883 ],\n",
       "       [0.6883117 ],\n",
       "       [0.35064936],\n",
       "       [0.6103896 ],\n",
       "       [0.2987013 ],\n",
       "       [0.48051947],\n",
       "       [0.4025974 ],\n",
       "       [0.1038961 ],\n",
       "       [0.32467532],\n",
       "       [0.37662336],\n",
       "       [0.66233766],\n",
       "       [0.6363636 ],\n",
       "       [0.44155845],\n",
       "       [0.46753246],\n",
       "       [0.2987013 ],\n",
       "       [0.37662336],\n",
       "       [0.46753246],\n",
       "       [0.71428573],\n",
       "       [0.53246754],\n",
       "       [0.6363636 ],\n",
       "       [0.32467532],\n",
       "       [0.5714286 ],\n",
       "       [0.5974026 ],\n",
       "       [0.35064936],\n",
       "       [0.38961038],\n",
       "       [0.41558442],\n",
       "       [0.58441556],\n",
       "       [0.27272728],\n",
       "       [0.32467532],\n",
       "       [0.76623374],\n",
       "       [0.35064936],\n",
       "       [0.41558442],\n",
       "       [0.2857143 ],\n",
       "       [0.46753246],\n",
       "       [0.36363637],\n",
       "       [0.22077923],\n",
       "       [0.48051947],\n",
       "       [0.5584416 ],\n",
       "       [0.32467532],\n",
       "       [0.3116883 ],\n",
       "       [0.5194805 ],\n",
       "       [0.18181819],\n",
       "       [0.37662336],\n",
       "       [0.32467532],\n",
       "       [0.6753247 ],\n",
       "       [0.3116883 ],\n",
       "       [0.45454547],\n",
       "       [0.48051947],\n",
       "       [0.5584416 ],\n",
       "       [0.36363637],\n",
       "       [0.54545456],\n",
       "       [0.6103896 ],\n",
       "       [0.48051947],\n",
       "       [0.45454547],\n",
       "       [0.46753246],\n",
       "       [0.76623374],\n",
       "       [0.53246754],\n",
       "       [0.84415585],\n",
       "       [0.41558442],\n",
       "       [0.23376623],\n",
       "       [0.6753247 ],\n",
       "       [0.5194805 ],\n",
       "       [0.66233766],\n",
       "       [0.5194805 ],\n",
       "       [0.6363636 ],\n",
       "       [0.6363636 ],\n",
       "       [0.15584415],\n",
       "       [0.2987013 ],\n",
       "       [0.32467532],\n",
       "       [0.24675325],\n",
       "       [0.35064936],\n",
       "       [0.53246754],\n",
       "       [0.24675325],\n",
       "       [0.53246754],\n",
       "       [0.38961038],\n",
       "       [0.5584416 ],\n",
       "       [0.41558442],\n",
       "       [0.4935065 ],\n",
       "       [0.42857143],\n",
       "       [0.25974026],\n",
       "       [0.38961038],\n",
       "       [0.46753246],\n",
       "       [0.48051947],\n",
       "       [0.32467532],\n",
       "       [0.15584415],\n",
       "       [0.53246754],\n",
       "       [0.4025974 ],\n",
       "       [0.6363636 ],\n",
       "       [0.5064935 ],\n",
       "       [0.33766234],\n",
       "       [0.53246754],\n",
       "       [0.58441556],\n",
       "       [0.46753246],\n",
       "       [0.5064935 ]], dtype=float32)"
      ]
     },
     "execution_count": 42,
     "metadata": {},
     "output_type": "execute_result"
    }
   ],
   "source": [
    "train_y.reshape(train_y.shape[0], 1)"
   ]
  },
  {
   "cell_type": "code",
   "execution_count": 43,
   "metadata": {},
   "outputs": [
    {
     "data": {
      "text/plain": [
       "array([0.48051947, 0.53246754, 0.2987013 , 0.5194805 , 0.4935065 ,\n",
       "       0.41558442, 0.4025974 , 0.42857143, 0.42857143, 0.5974026 ,\n",
       "       0.42857143, 0.37662336, 0.35064936, 0.6363636 , 0.54545456,\n",
       "       0.5064935 , 0.02597403, 0.6233766 , 0.48051947, 0.6233766 ,\n",
       "       0.4025974 , 0.54545456, 0.5194805 ], dtype=float32)"
      ]
     },
     "execution_count": 43,
     "metadata": {},
     "output_type": "execute_result"
    }
   ],
   "source": [
    "test_scaled[:, -1]"
   ]
  },
  {
   "cell_type": "code",
   "execution_count": 44,
   "metadata": {},
   "outputs": [
    {
     "data": {
      "text/plain": [
       "array([0.5584416 , 0.4025974 , 0.53246754, 0.2857143 , 0.5974026 ,\n",
       "       0.53246754, 0.4935065 , 0.41558442, 0.44155845, 0.6103896 ,\n",
       "       0.36363637, 0.35064936, 0.25974026, 0.38961038, 0.53246754,\n",
       "       0.6103896 , 0.09090909, 0.16883117, 0.64935064, 0.3116883 ,\n",
       "       0.32467532, 0.5974026 , 0.3116883 , 0.5584416 , 0.45454547,\n",
       "       0.44155845, 0.44155845, 0.44155845, 0.35064936, 0.38961038,\n",
       "       0.37662336, 0.6103896 , 0.3116883 , 0.36363637, 0.44155845,\n",
       "       0.46753246, 0.35064936, 0.53246754, 0.46753246, 0.5064935 ,\n",
       "       0.54545456, 0.45454547, 0.32467532, 0.4935065 , 0.5194805 ,\n",
       "       0.2857143 , 0.46753246, 0.46753246, 0.6233766 , 0.46753246,\n",
       "       0.48051947, 0.4935065 , 0.4935065 , 0.58441556, 0.53246754,\n",
       "       0.53246754, 0.19480519, 0.48051947, 0.33766234, 0.5064935 ,\n",
       "       0.48051947, 0.36363637, 0.42857143, 0.6103896 , 0.45454547,\n",
       "       0.37662336, 0.20779221, 0.41558442, 0.53246754, 0.3116883 ,\n",
       "       0.54545456, 0.45454547, 0.44155845, 0.2987013 , 0.3116883 ,\n",
       "       0.2987013 , 0.4025974 , 0.97402596, 0.41558442, 0.6753247 ,\n",
       "       0.36363637, 0.4025974 , 0.84415585, 0.5714286 , 0.2857143 ,\n",
       "       0.42857143, 0.5194805 , 0.23376623, 0.64935064, 0.5714286 ,\n",
       "       0.4935065 , 1.        , 0.16883117, 0.38961038, 0.6233766 ,\n",
       "       0.44155845, 0.53246754, 0.35064936, 0.4935065 , 0.27272728,\n",
       "       0.36363637, 0.6233766 , 0.38961038, 0.58441556, 0.24675325,\n",
       "       0.44155845, 0.37662336, 0.58441556, 0.45454547, 0.35064936,\n",
       "       0.8051948 , 0.42857143, 0.54545456, 0.5974026 , 0.32467532,\n",
       "       0.36363637, 0.45454547, 0.22077923, 0.2857143 , 0.22077923,\n",
       "       0.4025974 , 0.07792208, 0.35064936, 0.38961038, 0.36363637,\n",
       "       0.53246754, 0.24675325, 0.6103896 , 0.6753247 , 0.53246754,\n",
       "       0.4935065 , 0.45454547, 0.2987013 , 0.        , 0.3116883 ,\n",
       "       0.6883117 , 0.35064936, 0.6103896 , 0.2987013 , 0.48051947,\n",
       "       0.4025974 , 0.1038961 , 0.32467532, 0.37662336, 0.66233766,\n",
       "       0.6363636 , 0.44155845, 0.46753246, 0.2987013 , 0.37662336,\n",
       "       0.46753246, 0.71428573, 0.53246754, 0.6363636 , 0.32467532,\n",
       "       0.5714286 , 0.5974026 , 0.35064936, 0.38961038, 0.41558442,\n",
       "       0.58441556, 0.27272728, 0.32467532, 0.76623374, 0.35064936,\n",
       "       0.41558442, 0.2857143 , 0.46753246, 0.36363637, 0.22077923,\n",
       "       0.48051947, 0.5584416 , 0.32467532, 0.3116883 , 0.5194805 ,\n",
       "       0.18181819, 0.37662336, 0.32467532, 0.6753247 , 0.3116883 ,\n",
       "       0.45454547, 0.48051947, 0.5584416 , 0.36363637, 0.54545456,\n",
       "       0.6103896 , 0.48051947, 0.45454547, 0.46753246, 0.76623374,\n",
       "       0.53246754, 0.84415585, 0.41558442, 0.23376623, 0.6753247 ,\n",
       "       0.5194805 , 0.66233766, 0.5194805 , 0.6363636 , 0.6363636 ,\n",
       "       0.15584415, 0.2987013 , 0.32467532, 0.24675325, 0.35064936,\n",
       "       0.53246754, 0.24675325, 0.53246754, 0.38961038, 0.5584416 ,\n",
       "       0.41558442, 0.4935065 , 0.42857143, 0.25974026, 0.38961038,\n",
       "       0.46753246, 0.48051947, 0.32467532, 0.15584415, 0.53246754,\n",
       "       0.4025974 , 0.6363636 , 0.5064935 , 0.33766234, 0.53246754,\n",
       "       0.58441556, 0.46753246, 0.5064935 ], dtype=float32)"
      ]
     },
     "execution_count": 44,
     "metadata": {},
     "output_type": "execute_result"
    }
   ],
   "source": [
    "train_y"
   ]
  },
  {
   "cell_type": "code",
   "execution_count": 45,
   "metadata": {},
   "outputs": [
    {
     "data": {
      "text/plain": [
       "(228,)"
      ]
     },
     "execution_count": 45,
     "metadata": {},
     "output_type": "execute_result"
    }
   ],
   "source": [
    "train_y.shape"
   ]
  },
  {
   "cell_type": "markdown",
   "metadata": {},
   "source": [
    "# Бустинг"
   ]
  },
  {
   "cell_type": "markdown",
   "metadata": {},
   "source": [
    "# Обучение модели XGBRegressor"
   ]
  },
  {
   "cell_type": "markdown",
   "metadata": {},
   "source": [
    "### Введем необходимые параметры для обучения модели XGBRegressor. Далее подберем параметры для модели с помощью GridSearchCV и обучим нашу модель "
   ]
  },
  {
   "cell_type": "code",
   "execution_count": 47,
   "metadata": {},
   "outputs": [
    {
     "name": "stdout",
     "output_type": "stream",
     "text": [
      "Fitting 5 folds for each of 360 candidates, totalling 1800 fits\n"
     ]
    },
    {
     "name": "stderr",
     "output_type": "stream",
     "text": [
      "[Parallel(n_jobs=-1)]: Using backend LokyBackend with 4 concurrent workers.\n",
      "[Parallel(n_jobs=-1)]: Done  42 tasks      | elapsed:   10.2s\n",
      "[Parallel(n_jobs=-1)]: Done 192 tasks      | elapsed:   26.5s\n",
      "[Parallel(n_jobs=-1)]: Done 442 tasks      | elapsed:   47.5s\n",
      "[Parallel(n_jobs=-1)]: Done 792 tasks      | elapsed:  1.3min\n",
      "[Parallel(n_jobs=-1)]: Done 1242 tasks      | elapsed:  2.1min\n",
      "[Parallel(n_jobs=-1)]: Done 1792 tasks      | elapsed:  2.9min\n"
     ]
    },
    {
     "name": "stdout",
     "output_type": "stream",
     "text": [
      "[0]\tvalidation_0-rmse:0.15834\n",
      "[1]\tvalidation_0-rmse:0.15702\n",
      "[2]\tvalidation_0-rmse:0.15594\n",
      "[3]\tvalidation_0-rmse:0.15504\n"
     ]
    },
    {
     "name": "stderr",
     "output_type": "stream",
     "text": [
      "[Parallel(n_jobs=-1)]: Done 1800 out of 1800 | elapsed:  2.9min finished\n"
     ]
    },
    {
     "name": "stdout",
     "output_type": "stream",
     "text": [
      "[4]\tvalidation_0-rmse:0.15430\n",
      "[5]\tvalidation_0-rmse:0.15369\n",
      "[6]\tvalidation_0-rmse:0.15319\n",
      "[7]\tvalidation_0-rmse:0.15277\n",
      "[8]\tvalidation_0-rmse:0.15243\n",
      "[9]\tvalidation_0-rmse:0.15214\n",
      "[10]\tvalidation_0-rmse:0.15190\n",
      "[11]\tvalidation_0-rmse:0.15171\n",
      "[12]\tvalidation_0-rmse:0.15154\n",
      "[13]\tvalidation_0-rmse:0.15141\n",
      "[14]\tvalidation_0-rmse:0.15129\n",
      "[15]\tvalidation_0-rmse:0.15120\n",
      "[16]\tvalidation_0-rmse:0.15112\n",
      "[17]\tvalidation_0-rmse:0.15105\n",
      "[18]\tvalidation_0-rmse:0.15099\n",
      "[19]\tvalidation_0-rmse:0.15094\n",
      "[20]\tvalidation_0-rmse:0.15090\n",
      "[21]\tvalidation_0-rmse:0.15087\n",
      "[22]\tvalidation_0-rmse:0.15084\n",
      "[23]\tvalidation_0-rmse:0.15081\n",
      "[24]\tvalidation_0-rmse:0.15079\n",
      "[25]\tvalidation_0-rmse:0.15077\n",
      "[26]\tvalidation_0-rmse:0.15076\n",
      "[27]\tvalidation_0-rmse:0.15074\n",
      "[28]\tvalidation_0-rmse:0.15073\n",
      "[29]\tvalidation_0-rmse:0.15072\n",
      "[30]\tvalidation_0-rmse:0.15071\n",
      "[31]\tvalidation_0-rmse:0.15071\n",
      "[32]\tvalidation_0-rmse:0.15070\n",
      "[33]\tvalidation_0-rmse:0.15069\n",
      "[34]\tvalidation_0-rmse:0.15069\n",
      "[35]\tvalidation_0-rmse:0.15068\n",
      "[36]\tvalidation_0-rmse:0.15068\n",
      "[37]\tvalidation_0-rmse:0.15068\n",
      "[38]\tvalidation_0-rmse:0.15067\n",
      "[39]\tvalidation_0-rmse:0.15067\n",
      "[40]\tvalidation_0-rmse:0.15067\n",
      "[41]\tvalidation_0-rmse:0.15066\n",
      "[42]\tvalidation_0-rmse:0.15066\n",
      "[43]\tvalidation_0-rmse:0.15066\n",
      "[44]\tvalidation_0-rmse:0.15066\n",
      "[45]\tvalidation_0-rmse:0.15066\n",
      "[46]\tvalidation_0-rmse:0.15066\n",
      "[47]\tvalidation_0-rmse:0.15066\n",
      "[48]\tvalidation_0-rmse:0.15065\n",
      "[49]\tvalidation_0-rmse:0.15065\n",
      "[50]\tvalidation_0-rmse:0.15065\n",
      "[51]\tvalidation_0-rmse:0.15065\n",
      "[52]\tvalidation_0-rmse:0.15065\n",
      "[53]\tvalidation_0-rmse:0.15065\n",
      "[54]\tvalidation_0-rmse:0.15065\n",
      "[55]\tvalidation_0-rmse:0.15065\n",
      "[56]\tvalidation_0-rmse:0.15065\n",
      "[57]\tvalidation_0-rmse:0.15065\n",
      "[58]\tvalidation_0-rmse:0.15065\n",
      "[59]\tvalidation_0-rmse:0.15065\n",
      "[60]\tvalidation_0-rmse:0.15065\n",
      "[61]\tvalidation_0-rmse:0.15065\n",
      "[62]\tvalidation_0-rmse:0.15065\n",
      "[63]\tvalidation_0-rmse:0.15065\n",
      "[64]\tvalidation_0-rmse:0.15065\n",
      "[65]\tvalidation_0-rmse:0.15065\n",
      "[66]\tvalidation_0-rmse:0.15065\n",
      "[67]\tvalidation_0-rmse:0.15065\n",
      "[68]\tvalidation_0-rmse:0.15065\n",
      "[69]\tvalidation_0-rmse:0.15065\n",
      "[70]\tvalidation_0-rmse:0.15065\n",
      "[71]\tvalidation_0-rmse:0.15065\n",
      "[72]\tvalidation_0-rmse:0.15065\n",
      "[73]\tvalidation_0-rmse:0.15065\n",
      "[74]\tvalidation_0-rmse:0.15065\n",
      "[75]\tvalidation_0-rmse:0.15065\n",
      "[76]\tvalidation_0-rmse:0.15065\n",
      "[77]\tvalidation_0-rmse:0.15065\n",
      "[78]\tvalidation_0-rmse:0.15065\n",
      "[79]\tvalidation_0-rmse:0.15065\n",
      "[80]\tvalidation_0-rmse:0.15065\n",
      "[81]\tvalidation_0-rmse:0.15065\n",
      "[82]\tvalidation_0-rmse:0.15065\n",
      "[83]\tvalidation_0-rmse:0.15065\n",
      "[84]\tvalidation_0-rmse:0.15065\n",
      "[85]\tvalidation_0-rmse:0.15065\n",
      "[86]\tvalidation_0-rmse:0.15065\n",
      "[87]\tvalidation_0-rmse:0.15065\n",
      "[88]\tvalidation_0-rmse:0.15065\n",
      "[89]\tvalidation_0-rmse:0.15065\n"
     ]
    },
    {
     "data": {
      "text/plain": [
       "GridSearchCV(cv=5, error_score=nan,\n",
       "             estimator=XGBRegressor(base_score=None, booster=None,\n",
       "                                    colsample_bylevel=None,\n",
       "                                    colsample_bynode=None,\n",
       "                                    colsample_bytree=None, gamma=None,\n",
       "                                    gpu_id=None, importance_type='gain',\n",
       "                                    interaction_constraints=None,\n",
       "                                    learning_rate=None, max_delta_step=None,\n",
       "                                    max_depth=None, min_child_weight=None,\n",
       "                                    missing=nan, monotone_constraints=None,\n",
       "                                    n_estima...\n",
       "                                    subsample=None, tree_method=None,\n",
       "                                    validate_parameters=None, verbosity=None),\n",
       "             iid='deprecated', n_jobs=-1,\n",
       "             param_grid={'gamma': [0, 0.1, 0.3, 1],\n",
       "                         'learning_rate': [0.001, 0.01, 0.1],\n",
       "                         'max_depth': [2, 4, 6, 7, 12],\n",
       "                         'n_estimators': [10, 45, 90, 100, 150, 250],\n",
       "                         'nthread': [-1], 'reg_alpha': [1], 'reg_lambda': [1],\n",
       "                         'seed': [10]},\n",
       "             pre_dispatch='2*n_jobs', refit=True, return_train_score=False,\n",
       "             scoring=None, verbose=True)"
      ]
     },
     "execution_count": 47,
     "metadata": {},
     "output_type": "execute_result"
    }
   ],
   "source": [
    "parameters = { 'gamma' : [0, 0.1, 0.3, 1], 'learning_rate' : [0.001, 0.01, 0.1], \n",
    "              'max_depth' : [2, 4, 6, 7, 12], \n",
    "              'n_estimators' : [10, 45, 90, 100, 150, 250],\n",
    "              'nthread' : [-1], 'reg_alpha' : [1], 'reg_lambda' : [1], 'seed' : [10] }\n",
    "\n",
    "bst = xgb.XGBRegressor()\n",
    "xgb_grid = GridSearchCV(bst,\n",
    "                        parameters,\n",
    "                        cv=5,\n",
    "                        n_jobs=-1,\n",
    "                        verbose=True,\n",
    "                        )\n",
    "xgb_grid.fit(train_X, train_y, eval_set=[(train_X, train_y)], early_stopping_rounds=50)"
   ]
  },
  {
   "cell_type": "code",
   "execution_count": 48,
   "metadata": {},
   "outputs": [
    {
     "data": {
      "text/plain": [
       "XGBRegressor(base_score=0.5, booster='gbtree', colsample_bylevel=1,\n",
       "             colsample_bynode=1, colsample_bytree=1, gamma=0.3, gpu_id=-1,\n",
       "             importance_type='gain', interaction_constraints='',\n",
       "             learning_rate=0.1, max_delta_step=0, max_depth=2,\n",
       "             min_child_weight=1, missing=nan, monotone_constraints='()',\n",
       "             n_estimators=90, n_jobs=4, nthread=-1, num_parallel_tree=1,\n",
       "             objective='reg:squarederror', random_state=10, reg_alpha=1,\n",
       "             reg_lambda=1, scale_pos_weight=1, seed=10, subsample=1,\n",
       "             tree_method='exact', validate_parameters=1, verbosity=None)"
      ]
     },
     "execution_count": 48,
     "metadata": {},
     "output_type": "execute_result"
    }
   ],
   "source": [
    "xgb_grid.best_estimator_"
   ]
  },
  {
   "cell_type": "markdown",
   "metadata": {},
   "source": [
    "# Используем обратное масштабирование для прогнозируемого значения"
   ]
  },
  {
   "cell_type": "code",
   "execution_count": 49,
   "metadata": {},
   "outputs": [],
   "source": [
    "def invert_scale(scaler, X, value):\n",
    "    new_row = [x for x in X] + [value]\n",
    "    array = np.array(new_row)\n",
    "    array = array.reshape(1, len(array))\n",
    "\n",
    "    inverted = scaler.inverse_transform(array)\n",
    "    ##print(\"converting %s to %s\" % (value,inverted[0, -1]))\n",
    "    return inverted[0, -1]"
   ]
  },
  {
   "cell_type": "markdown",
   "metadata": {},
   "source": [
    "## Преобразование дифференцированного значения"
   ]
  },
  {
   "cell_type": "code",
   "execution_count": 50,
   "metadata": {},
   "outputs": [],
   "source": [
    "def inverse_difference(history, yhat, interval=1):\n",
    "    return yhat + history[-interval]"
   ]
  },
  {
   "cell_type": "code",
   "execution_count": 51,
   "metadata": {},
   "outputs": [],
   "source": [
    "def mean_absolute_percentage_error(y_true, y_pred): \n",
    "    return np.mean(np.abs((np.array(y_true) - np.array(y_pred)) / y_true)) * 100"
   ]
  },
  {
   "cell_type": "markdown",
   "metadata": {},
   "source": [
    "## Преобразование прогноза во временной ряд"
   ]
  },
  {
   "cell_type": "code",
   "execution_count": 53,
   "metadata": {},
   "outputs": [],
   "source": [
    "predictions = list()\n",
    "start = 23 # test period\n",
    "l = len(test_scaled) - start\n",
    "\n",
    "rmse = []\n",
    "mape = []\n",
    "\n",
    "for i in range(len(test_scaled)):\n",
    "    X1, y = test_scaled[l, 0:-1], test_scaled[l, -1]\n",
    "    X1 = X1[-12:] # ts_window\n",
    "\n",
    "    # prediction \n",
    "    # pred = predict()\n",
    "    X1 = X1.reshape((1,-1))\n",
    "    pred = xgb_grid.predict(X1)\n",
    "\n",
    "    yhat = invert_scale(scaler, X1[0], pred)\n",
    "        \n",
    "    l=l+1\n",
    "\n",
    "    yhat = inverse_difference(train['RTSI'], yhat, len(test_scaled) + 1 - i) # if not stationary \n",
    "\n",
    "    predictions.append(yhat)\n",
    "\n"
   ]
  },
  {
   "cell_type": "code",
   "execution_count": null,
   "metadata": {},
   "outputs": [],
   "source": []
  },
  {
   "cell_type": "markdown",
   "metadata": {},
   "source": [
    "### Получим предсказание"
   ]
  },
  {
   "cell_type": "code",
   "execution_count": 55,
   "metadata": {},
   "outputs": [
    {
     "data": {
      "text/plain": [
       "[1440.6896643340588,\n",
       " 1444.6896643340588,\n",
       " 1452.6896643340588,\n",
       " 1442.6896643340588,\n",
       " 1449.6896643340588,\n",
       " 1454.6896643340588,\n",
       " 1453.6896643340588,\n",
       " 1451.6896643340588,\n",
       " 1451.6896643340588,\n",
       " 1451.6896643340588,\n",
       " 1464.6896643340588,\n",
       " 1464.6896643340588,\n",
       " 1460.6896643340588,\n",
       " 1454.6896643340588,\n",
       " 1470.6896643340588,\n",
       " 1479.6896643340588,\n",
       " 1485.6896643340588,\n",
       " 1454.6896643340588,\n",
       " 1469.6896643340588,\n",
       " 1473.6896643340588,\n",
       " 1488.6896643340588,\n",
       " 1486.6896643340588,\n",
       " 1495.6896643340588]"
      ]
     },
     "execution_count": 55,
     "metadata": {},
     "output_type": "execute_result"
    }
   ],
   "source": [
    "predictions"
   ]
  },
  {
   "cell_type": "code",
   "execution_count": 57,
   "metadata": {},
   "outputs": [],
   "source": [
    "result_df = pd.read_csv('C:/Users/user/Desktop/VASYA1.csv')"
   ]
  },
  {
   "cell_type": "code",
   "execution_count": 58,
   "metadata": {},
   "outputs": [],
   "source": [
    "result_df = result_df[-23:]"
   ]
  },
  {
   "cell_type": "code",
   "execution_count": 59,
   "metadata": {},
   "outputs": [
    {
     "data": {
      "text/html": [
       "<div>\n",
       "<style scoped>\n",
       "    .dataframe tbody tr th:only-of-type {\n",
       "        vertical-align: middle;\n",
       "    }\n",
       "\n",
       "    .dataframe tbody tr th {\n",
       "        vertical-align: top;\n",
       "    }\n",
       "\n",
       "    .dataframe thead th {\n",
       "        text-align: right;\n",
       "    }\n",
       "</style>\n",
       "<table border=\"1\" class=\"dataframe\">\n",
       "  <thead>\n",
       "    <tr style=\"text-align: right;\">\n",
       "      <th></th>\n",
       "      <th>data</th>\n",
       "      <th>RTSI</th>\n",
       "      <th>XGB_Predictions</th>\n",
       "    </tr>\n",
       "  </thead>\n",
       "  <tbody>\n",
       "    <tr>\n",
       "      <th>1</th>\n",
       "      <td>2018-02-01</td>\n",
       "      <td>1443</td>\n",
       "      <td>1440.689664</td>\n",
       "    </tr>\n",
       "    <tr>\n",
       "      <th>2</th>\n",
       "      <td>2018-03-01</td>\n",
       "      <td>1451</td>\n",
       "      <td>1444.689664</td>\n",
       "    </tr>\n",
       "    <tr>\n",
       "      <th>3</th>\n",
       "      <td>2018-04-01</td>\n",
       "      <td>1441</td>\n",
       "      <td>1452.689664</td>\n",
       "    </tr>\n",
       "    <tr>\n",
       "      <th>4</th>\n",
       "      <td>2018-05-01</td>\n",
       "      <td>1448</td>\n",
       "      <td>1442.689664</td>\n",
       "    </tr>\n",
       "    <tr>\n",
       "      <th>5</th>\n",
       "      <td>2018-06-01</td>\n",
       "      <td>1453</td>\n",
       "      <td>1449.689664</td>\n",
       "    </tr>\n",
       "    <tr>\n",
       "      <th>6</th>\n",
       "      <td>2018-07-01</td>\n",
       "      <td>1452</td>\n",
       "      <td>1454.689664</td>\n",
       "    </tr>\n",
       "    <tr>\n",
       "      <th>7</th>\n",
       "      <td>2018-08-01</td>\n",
       "      <td>1450</td>\n",
       "      <td>1453.689664</td>\n",
       "    </tr>\n",
       "    <tr>\n",
       "      <th>8</th>\n",
       "      <td>2018-09-01</td>\n",
       "      <td>1450</td>\n",
       "      <td>1451.689664</td>\n",
       "    </tr>\n",
       "    <tr>\n",
       "      <th>9</th>\n",
       "      <td>2018-10-01</td>\n",
       "      <td>1450</td>\n",
       "      <td>1451.689664</td>\n",
       "    </tr>\n",
       "    <tr>\n",
       "      <th>10</th>\n",
       "      <td>2018-11-01</td>\n",
       "      <td>1463</td>\n",
       "      <td>1451.689664</td>\n",
       "    </tr>\n",
       "    <tr>\n",
       "      <th>11</th>\n",
       "      <td>2018-12-01</td>\n",
       "      <td>1463</td>\n",
       "      <td>1464.689664</td>\n",
       "    </tr>\n",
       "    <tr>\n",
       "      <th>12</th>\n",
       "      <td>2019-01-01</td>\n",
       "      <td>1459</td>\n",
       "      <td>1464.689664</td>\n",
       "    </tr>\n",
       "    <tr>\n",
       "      <th>13</th>\n",
       "      <td>2019-02-01</td>\n",
       "      <td>1453</td>\n",
       "      <td>1460.689664</td>\n",
       "    </tr>\n",
       "    <tr>\n",
       "      <th>14</th>\n",
       "      <td>2019-03-01</td>\n",
       "      <td>1469</td>\n",
       "      <td>1454.689664</td>\n",
       "    </tr>\n",
       "    <tr>\n",
       "      <th>15</th>\n",
       "      <td>2019-04-01</td>\n",
       "      <td>1478</td>\n",
       "      <td>1470.689664</td>\n",
       "    </tr>\n",
       "    <tr>\n",
       "      <th>16</th>\n",
       "      <td>2019-05-01</td>\n",
       "      <td>1484</td>\n",
       "      <td>1479.689664</td>\n",
       "    </tr>\n",
       "    <tr>\n",
       "      <th>17</th>\n",
       "      <td>2019-06-01</td>\n",
       "      <td>1453</td>\n",
       "      <td>1485.689664</td>\n",
       "    </tr>\n",
       "    <tr>\n",
       "      <th>18</th>\n",
       "      <td>2019-07-01</td>\n",
       "      <td>1468</td>\n",
       "      <td>1454.689664</td>\n",
       "    </tr>\n",
       "    <tr>\n",
       "      <th>19</th>\n",
       "      <td>2019-08-01</td>\n",
       "      <td>1472</td>\n",
       "      <td>1469.689664</td>\n",
       "    </tr>\n",
       "    <tr>\n",
       "      <th>20</th>\n",
       "      <td>2019-09-01</td>\n",
       "      <td>1487</td>\n",
       "      <td>1473.689664</td>\n",
       "    </tr>\n",
       "    <tr>\n",
       "      <th>21</th>\n",
       "      <td>2019-10-01</td>\n",
       "      <td>1485</td>\n",
       "      <td>1488.689664</td>\n",
       "    </tr>\n",
       "    <tr>\n",
       "      <th>22</th>\n",
       "      <td>2019-11-01</td>\n",
       "      <td>1494</td>\n",
       "      <td>1486.689664</td>\n",
       "    </tr>\n",
       "    <tr>\n",
       "      <th>23</th>\n",
       "      <td>2019-12-01</td>\n",
       "      <td>1501</td>\n",
       "      <td>1495.689664</td>\n",
       "    </tr>\n",
       "  </tbody>\n",
       "</table>\n",
       "</div>"
      ],
      "text/plain": [
       "          data  RTSI  XGB_Predictions\n",
       "1   2018-02-01  1443      1440.689664\n",
       "2   2018-03-01  1451      1444.689664\n",
       "3   2018-04-01  1441      1452.689664\n",
       "4   2018-05-01  1448      1442.689664\n",
       "5   2018-06-01  1453      1449.689664\n",
       "6   2018-07-01  1452      1454.689664\n",
       "7   2018-08-01  1450      1453.689664\n",
       "8   2018-09-01  1450      1451.689664\n",
       "9   2018-10-01  1450      1451.689664\n",
       "10  2018-11-01  1463      1451.689664\n",
       "11  2018-12-01  1463      1464.689664\n",
       "12  2019-01-01  1459      1464.689664\n",
       "13  2019-02-01  1453      1460.689664\n",
       "14  2019-03-01  1469      1454.689664\n",
       "15  2019-04-01  1478      1470.689664\n",
       "16  2019-05-01  1484      1479.689664\n",
       "17  2019-06-01  1453      1485.689664\n",
       "18  2019-07-01  1468      1454.689664\n",
       "19  2019-08-01  1472      1469.689664\n",
       "20  2019-09-01  1487      1473.689664\n",
       "21  2019-10-01  1485      1488.689664\n",
       "22  2019-11-01  1494      1486.689664\n",
       "23  2019-12-01  1501      1495.689664"
      ]
     },
     "execution_count": 59,
     "metadata": {},
     "output_type": "execute_result"
    }
   ],
   "source": [
    "result_df['XGB_Predictions'] = predictions\n",
    "result_df.head(23)"
   ]
  },
  {
   "cell_type": "markdown",
   "metadata": {},
   "source": [
    "### Сравним данные Индекса РТС и предсказания"
   ]
  },
  {
   "cell_type": "code",
   "execution_count": 60,
   "metadata": {},
   "outputs": [
    {
     "data": {
      "text/plain": [
       "<matplotlib.axes._subplots.AxesSubplot at 0x26c52078b88>"
      ]
     },
     "execution_count": 60,
     "metadata": {},
     "output_type": "execute_result"
    },
    {
     "data": {
      "image/png": "[encoded data removed]",
      "text/plain": [
       "<Figure size 720x288 with 1 Axes>"
      ]
     },
     "metadata": {
      "needs_background": "light"
     },
     "output_type": "display_data"
    }
   ],
   "source": [
    "result_df[:23].plot(figsize=(10,4))"
   ]
  },
  {
   "cell_type": "markdown",
   "metadata": {},
   "source": [
    "### Посчитаем Коэффициент детерминации для реальных данных и предсказания"
   ]
  },
  {
   "cell_type": "code",
   "execution_count": 61,
   "metadata": {},
   "outputs": [],
   "source": [
    "from sklearn.metrics import mean_squared_error, r2_score\n",
    "R2 = r2_score(result_df[:23].RTSI, result_df[:23].XGB_Predictions)"
   ]
  },
  {
   "cell_type": "code",
   "execution_count": 62,
   "metadata": {},
   "outputs": [
    {
     "name": "stdout",
     "output_type": "stream",
     "text": [
      "0.6483617707969003\n"
     ]
    }
   ],
   "source": [
    "print(R2)"
   ]
  },
  {
   "cell_type": "code",
   "execution_count": null,
   "metadata": {},
   "outputs": [],
   "source": []
  },
  {
   "cell_type": "code",
   "execution_count": null,
   "metadata": {},
   "outputs": [],
   "source": []
  },
  {
   "cell_type": "code",
   "execution_count": null,
   "metadata": {},
   "outputs": [],
   "source": []
  },
  {
   "cell_type": "code",
   "execution_count": null,
   "metadata": {},
   "outputs": [],
   "source": []
  },
  {
   "cell_type": "code",
   "execution_count": null,
   "metadata": {},
   "outputs": [],
   "source": []
  },
  {
   "cell_type": "code",
   "execution_count": null,
   "metadata": {},
   "outputs": [],
   "source": []
  },
  {
   "cell_type": "code",
   "execution_count": null,
   "metadata": {},
   "outputs": [],
   "source": []
  },
  {
   "cell_type": "code",
   "execution_count": null,
   "metadata": {},
   "outputs": [],
   "source": []
  }
 ],
 "metadata": {
  "kernelspec": {
   "display_name": "Python 3",
   "language": "python",
   "name": "python3"
  },
  "language_info": {
   "codemirror_mode": {
    "name": "ipython",
    "version": 3
   },
   "file_extension": ".py",
   "mimetype": "text/x-python",
   "name": "python",
   "nbconvert_exporter": "python",
   "pygments_lexer": "ipython3",
   "version": "3.7.6"
  }
 },
 "nbformat": 4,
 "nbformat_minor": 4
}
