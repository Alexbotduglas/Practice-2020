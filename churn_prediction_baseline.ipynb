{
 "cells": [
  {
   "cell_type": "markdown",
   "metadata": {
    "id": "pmyvksvcDXGD"
   },
   "source": [
    "### Импортируем библиотеки"
   ]
  },
  {
   "cell_type": "code",
   "execution_count": 1,
   "metadata": {
    "executionInfo": {
     "elapsed": 1189,
     "status": "ok",
     "timestamp": 1605597360527,
     "user": {
      "displayName": "Dennis Popov",
      "photoUrl": "",
      "userId": "17200435586598596798"
     },
     "user_tz": -180
    },
    "id": "dDUbYkcdDXGY"
   },
   "outputs": [],
   "source": [
    "import pandas as pd\n",
    "import numpy as np\n",
    "import os\n",
    "import tqdm\n",
    "import datetime"
   ]
  },
  {
   "cell_type": "code",
   "execution_count": 2,
   "metadata": {
    "executionInfo": {
     "elapsed": 1164,
     "status": "ok",
     "timestamp": 1605597369402,
     "user": {
      "displayName": "Dennis Popov",
      "photoUrl": "",
      "userId": "17200435586598596798"
     },
     "user_tz": -180
    },
    "id": "bh7KGWqTDXHO"
   },
   "outputs": [],
   "source": [
    "import warnings\n",
    "warnings.filterwarnings(\"ignore\")"
   ]
  },
  {
   "cell_type": "markdown",
   "metadata": {
    "id": "sZ2sUaEcDXHw"
   },
   "source": [
    "### Подгружаем данные"
   ]
  },
  {
   "cell_type": "code",
   "execution_count": 3,
   "metadata": {
    "colab": {
     "base_uri": "https://localhost:8080/",
     "height": 404
    },
    "executionInfo": {
     "elapsed": 2706,
     "status": "error",
     "timestamp": 1605597382889,
     "user": {
      "displayName": "Dennis Popov",
      "photoUrl": "",
      "userId": "17200435586598596798"
     },
     "user_tz": -180
    },
    "id": "YDWisvs7DXH1",
    "outputId": "7afdb548-603c-404f-fe0e-f135268524f3"
   },
   "outputs": [],
   "source": [
    "addresses = pd.read_csv('addresses.csv')\n",
    "user_profiles = pd.read_csv('user_profiles.csv')\n",
    "shipments_reduced_info = pd.read_csv('shipments_reduced_info.csv')"
   ]
  },
  {
   "cell_type": "code",
   "execution_count": 4,
   "metadata": {
    "id": "MyY7V1YqDXIO",
    "outputId": "6438bdfb-3a6c-4b3e-b9bf-af74a2b91036"
   },
   "outputs": [
    {
     "data": {
      "text/html": [
       "<div>\n",
       "<style scoped>\n",
       "    .dataframe tbody tr th:only-of-type {\n",
       "        vertical-align: middle;\n",
       "    }\n",
       "\n",
       "    .dataframe tbody tr th {\n",
       "        vertical-align: top;\n",
       "    }\n",
       "\n",
       "    .dataframe thead th {\n",
       "        text-align: right;\n",
       "    }\n",
       "</style>\n",
       "<table border=\"1\" class=\"dataframe\">\n",
       "  <thead>\n",
       "    <tr style=\"text-align: right;\">\n",
       "      <th></th>\n",
       "      <th>id</th>\n",
       "      <th>phone_id</th>\n",
       "    </tr>\n",
       "  </thead>\n",
       "  <tbody>\n",
       "    <tr>\n",
       "      <th>0</th>\n",
       "      <td>41</td>\n",
       "      <td>1</td>\n",
       "    </tr>\n",
       "    <tr>\n",
       "      <th>1</th>\n",
       "      <td>8531</td>\n",
       "      <td>2</td>\n",
       "    </tr>\n",
       "    <tr>\n",
       "      <th>2</th>\n",
       "      <td>2982657</td>\n",
       "      <td>2</td>\n",
       "    </tr>\n",
       "    <tr>\n",
       "      <th>3</th>\n",
       "      <td>3271801</td>\n",
       "      <td>2</td>\n",
       "    </tr>\n",
       "    <tr>\n",
       "      <th>4</th>\n",
       "      <td>3648206</td>\n",
       "      <td>2</td>\n",
       "    </tr>\n",
       "  </tbody>\n",
       "</table>\n",
       "</div>"
      ],
      "text/plain": [
       "        id  phone_id\n",
       "0       41         1\n",
       "1     8531         2\n",
       "2  2982657         2\n",
       "3  3271801         2\n",
       "4  3648206         2"
      ]
     },
     "execution_count": 4,
     "metadata": {},
     "output_type": "execute_result"
    }
   ],
   "source": [
    "addresses.head()"
   ]
  },
  {
   "cell_type": "code",
   "execution_count": 8,
   "metadata": {
    "id": "SJS7BrndDXIj",
    "outputId": "08eb889b-1412-4577-c48b-e9b7b9c642f0"
   },
   "outputs": [
    {
     "data": {
      "text/html": [
       "<div>\n",
       "<style scoped>\n",
       "    .dataframe tbody tr th:only-of-type {\n",
       "        vertical-align: middle;\n",
       "    }\n",
       "\n",
       "    .dataframe tbody tr th {\n",
       "        vertical-align: top;\n",
       "    }\n",
       "\n",
       "    .dataframe thead th {\n",
       "        text-align: right;\n",
       "    }\n",
       "</style>\n",
       "<table border=\"1\" class=\"dataframe\">\n",
       "  <thead>\n",
       "    <tr style=\"text-align: right;\">\n",
       "      <th></th>\n",
       "      <th>user_id</th>\n",
       "      <th>gender</th>\n",
       "      <th>bdate</th>\n",
       "    </tr>\n",
       "  </thead>\n",
       "  <tbody>\n",
       "    <tr>\n",
       "      <th>0</th>\n",
       "      <td>2226207</td>\n",
       "      <td>NaN</td>\n",
       "      <td>NaN</td>\n",
       "    </tr>\n",
       "    <tr>\n",
       "      <th>1</th>\n",
       "      <td>2226207</td>\n",
       "      <td>NaN</td>\n",
       "      <td>NaN</td>\n",
       "    </tr>\n",
       "    <tr>\n",
       "      <th>2</th>\n",
       "      <td>2226207</td>\n",
       "      <td>NaN</td>\n",
       "      <td>NaN</td>\n",
       "    </tr>\n",
       "    <tr>\n",
       "      <th>3</th>\n",
       "      <td>1684318</td>\n",
       "      <td>male</td>\n",
       "      <td>1987-10-11</td>\n",
       "    </tr>\n",
       "    <tr>\n",
       "      <th>4</th>\n",
       "      <td>1684318</td>\n",
       "      <td>male</td>\n",
       "      <td>1987-10-11</td>\n",
       "    </tr>\n",
       "  </tbody>\n",
       "</table>\n",
       "</div>"
      ],
      "text/plain": [
       "   user_id gender       bdate\n",
       "0  2226207    NaN         NaN\n",
       "1  2226207    NaN         NaN\n",
       "2  2226207    NaN         NaN\n",
       "3  1684318   male  1987-10-11\n",
       "4  1684318   male  1987-10-11"
      ]
     },
     "execution_count": 8,
     "metadata": {},
     "output_type": "execute_result"
    }
   ],
   "source": [
    "user_profiles.head()"
   ]
  },
  {
   "cell_type": "code",
   "execution_count": 9,
   "metadata": {
    "id": "KfqFeRTpDXI3",
    "outputId": "cd8ddebe-b64b-4f6b-bc8c-b0a7a2fd62a8"
   },
   "outputs": [
    {
     "data": {
      "text/html": [
       "<div>\n",
       "<style scoped>\n",
       "    .dataframe tbody tr th:only-of-type {\n",
       "        vertical-align: middle;\n",
       "    }\n",
       "\n",
       "    .dataframe tbody tr th {\n",
       "        vertical-align: top;\n",
       "    }\n",
       "\n",
       "    .dataframe thead th {\n",
       "        text-align: right;\n",
       "    }\n",
       "</style>\n",
       "<table border=\"1\" class=\"dataframe\">\n",
       "  <thead>\n",
       "    <tr style=\"text-align: right;\">\n",
       "      <th></th>\n",
       "      <th>shipment_id</th>\n",
       "      <th>n_replaced</th>\n",
       "      <th>n_cancelled</th>\n",
       "      <th>n_items_total</th>\n",
       "      <th>total_sum_without_cancelled</th>\n",
       "      <th>total_discounts</th>\n",
       "    </tr>\n",
       "  </thead>\n",
       "  <tbody>\n",
       "    <tr>\n",
       "      <th>0</th>\n",
       "      <td>178163</td>\n",
       "      <td>0</td>\n",
       "      <td>7</td>\n",
       "      <td>31</td>\n",
       "      <td>7489.499998</td>\n",
       "      <td>320.939995</td>\n",
       "    </tr>\n",
       "    <tr>\n",
       "      <th>1</th>\n",
       "      <td>273988</td>\n",
       "      <td>4</td>\n",
       "      <td>9</td>\n",
       "      <td>81</td>\n",
       "      <td>33408.880073</td>\n",
       "      <td>2102.400017</td>\n",
       "    </tr>\n",
       "    <tr>\n",
       "      <th>2</th>\n",
       "      <td>322307</td>\n",
       "      <td>0</td>\n",
       "      <td>1</td>\n",
       "      <td>24</td>\n",
       "      <td>3529.400031</td>\n",
       "      <td>1198.849987</td>\n",
       "    </tr>\n",
       "    <tr>\n",
       "      <th>3</th>\n",
       "      <td>337809</td>\n",
       "      <td>2</td>\n",
       "      <td>0</td>\n",
       "      <td>45</td>\n",
       "      <td>8884.640038</td>\n",
       "      <td>857.299990</td>\n",
       "    </tr>\n",
       "    <tr>\n",
       "      <th>4</th>\n",
       "      <td>351762</td>\n",
       "      <td>0</td>\n",
       "      <td>0</td>\n",
       "      <td>54</td>\n",
       "      <td>8297.440020</td>\n",
       "      <td>831.120012</td>\n",
       "    </tr>\n",
       "  </tbody>\n",
       "</table>\n",
       "</div>"
      ],
      "text/plain": [
       "   shipment_id  n_replaced  n_cancelled  n_items_total  \\\n",
       "0       178163           0            7             31   \n",
       "1       273988           4            9             81   \n",
       "2       322307           0            1             24   \n",
       "3       337809           2            0             45   \n",
       "4       351762           0            0             54   \n",
       "\n",
       "   total_sum_without_cancelled  total_discounts  \n",
       "0                  7489.499998       320.939995  \n",
       "1                 33408.880073      2102.400017  \n",
       "2                  3529.400031      1198.849987  \n",
       "3                  8884.640038       857.299990  \n",
       "4                  8297.440020       831.120012  "
      ]
     },
     "execution_count": 9,
     "metadata": {},
     "output_type": "execute_result"
    }
   ],
   "source": [
    "shipments_reduced_info.head()"
   ]
  },
  {
   "cell_type": "code",
   "execution_count": 15,
   "metadata": {
    "id": "3a-TqTdpDXJM",
    "outputId": "ff2f4358-e5d8-4c22-e486-50e01fa8e7da"
   },
   "outputs": [
    {
     "ename": "NameError",
     "evalue": "name 'messages' is not defined",
     "output_type": "error",
     "traceback": [
      "\u001b[0;31m---------------------------------------------------------------------------\u001b[0m",
      "\u001b[0;31mNameError\u001b[0m                                 Traceback (most recent call last)",
      "\u001b[0;32m<ipython-input-15-b74d4ccb026f>\u001b[0m in \u001b[0;36m<module>\u001b[0;34m\u001b[0m\n\u001b[0;32m----> 1\u001b[0;31m \u001b[0mmessages\u001b[0m\u001b[0;34m.\u001b[0m\u001b[0mhead\u001b[0m\u001b[0;34m(\u001b[0m\u001b[0;34m)\u001b[0m\u001b[0;34m\u001b[0m\u001b[0;34m\u001b[0m\u001b[0m\n\u001b[0m",
      "\u001b[0;31mNameError\u001b[0m: name 'messages' is not defined"
     ]
    }
   ],
   "source": [
    "messages.head()"
   ]
  },
  {
   "cell_type": "code",
   "execution_count": 17,
   "metadata": {},
   "outputs": [
    {
     "name": "stdout",
     "output_type": "stream",
     "text": [
      "addresses.csv\t\t\t shipments\t\t     user_profiles.xlsx\r\n",
      "churn_prediction_baseline.ipynb  shipments_reduced_info.csv\r\n",
      "copy\t\t\t\t user_profiles.csv\r\n"
     ]
    }
   ],
   "source": [
    "!ls"
   ]
  },
  {
   "cell_type": "code",
   "execution_count": 18,
   "metadata": {
    "id": "vKRIYRbjDXJb",
    "outputId": "cc7dd79e-9a98-4bee-ce74-92b6a38a0630"
   },
   "outputs": [
    {
     "name": "stdout",
     "output_type": "stream",
     "text": [
      "/home/maximus/Yandex.Disk/MyProjects/alivebe/ml_aliexpress/Отток и Uplift/shipments\n"
     ]
    }
   ],
   "source": [
    "cd ./shipments"
   ]
  },
  {
   "cell_type": "code",
   "execution_count": 19,
   "metadata": {
    "id": "tdTwdJ4GDXJr",
    "outputId": "28c4b8c7-eb56-4c22-bfdd-261ce8fcfb1a"
   },
   "outputs": [
    {
     "data": {
      "text/plain": [
       "['shipments2020-03-01.csv',\n",
       " 'shipments2020-06-29.csv',\n",
       " 'shipments2020-04-30.csv',\n",
       " 'shipments2020-01-01.csv']"
      ]
     },
     "execution_count": 19,
     "metadata": {},
     "output_type": "execute_result"
    }
   ],
   "source": [
    "os.listdir()"
   ]
  },
  {
   "cell_type": "markdown",
   "metadata": {
    "id": "ALl1ojnBDXJ7"
   },
   "source": [
    "### Формируем основной датасет"
   ]
  },
  {
   "cell_type": "code",
   "execution_count": 20,
   "metadata": {
    "id": "q-PO8qHNDXKA",
    "outputId": "307c884f-21cc-4bfd-b9cd-7000851bbc47"
   },
   "outputs": [
    {
     "name": "stderr",
     "output_type": "stream",
     "text": [
      " 25%|██▌       | 1/4 [00:02<00:07,  2.56s/it]"
     ]
    },
    {
     "name": "stdout",
     "output_type": "stream",
     "text": [
      "(400963, 20)\n"
     ]
    },
    {
     "name": "stderr",
     "output_type": "stream",
     "text": [
      "\r",
      " 50%|█████     | 2/4 [00:07<00:06,  3.37s/it]"
     ]
    },
    {
     "name": "stdout",
     "output_type": "stream",
     "text": [
      "(1273721, 20)\n"
     ]
    },
    {
     "name": "stderr",
     "output_type": "stream",
     "text": [
      "\r",
      " 75%|███████▌  | 3/4 [00:13<00:04,  4.05s/it]"
     ]
    },
    {
     "name": "stdout",
     "output_type": "stream",
     "text": [
      "(2119140, 20)\n"
     ]
    },
    {
     "name": "stderr",
     "output_type": "stream",
     "text": [
      "100%|██████████| 4/4 [00:16<00:00,  4.07s/it]"
     ]
    },
    {
     "name": "stdout",
     "output_type": "stream",
     "text": [
      "(2260686, 20)\n"
     ]
    },
    {
     "name": "stderr",
     "output_type": "stream",
     "text": [
      "\n"
     ]
    }
   ],
   "source": [
    "shipments = pd.DataFrame()\n",
    "for i in tqdm.tqdm(os.listdir()):\n",
    "    if 'shipments' in i:\n",
    "        shipments = pd.concat([shipments, pd.read_csv(i)])\n",
    "        print(shipments.shape)\n",
    "    "
   ]
  },
  {
   "cell_type": "code",
   "execution_count": 21,
   "metadata": {
    "id": "PL0UyY_WDXKQ"
   },
   "outputs": [],
   "source": [
    "pd.set_option('max_colwidth', 40)"
   ]
  },
  {
   "cell_type": "code",
   "execution_count": 22,
   "metadata": {
    "id": "VdAthP2uDXKg",
    "outputId": "15afc61e-6aad-404d-bdc8-a8f553aaeda4"
   },
   "outputs": [
    {
     "data": {
      "text/html": [
       "<div>\n",
       "<style scoped>\n",
       "    .dataframe tbody tr th:only-of-type {\n",
       "        vertical-align: middle;\n",
       "    }\n",
       "\n",
       "    .dataframe tbody tr th {\n",
       "        vertical-align: top;\n",
       "    }\n",
       "\n",
       "    .dataframe thead th {\n",
       "        text-align: right;\n",
       "    }\n",
       "</style>\n",
       "<table border=\"1\" class=\"dataframe\">\n",
       "  <thead>\n",
       "    <tr style=\"text-align: right;\">\n",
       "      <th></th>\n",
       "      <th>user_id</th>\n",
       "      <th>ship_address_id</th>\n",
       "      <th>shipment_id</th>\n",
       "      <th>order_id</th>\n",
       "      <th>order_created_at</th>\n",
       "      <th>order_completed_at</th>\n",
       "      <th>shipment_starts_at</th>\n",
       "      <th>retailer</th>\n",
       "      <th>s.order_state</th>\n",
       "      <th>shipment_state</th>\n",
       "      <th>s.city_name</th>\n",
       "      <th>s.store_id</th>\n",
       "      <th>total_cost</th>\n",
       "      <th>rate</th>\n",
       "      <th>dw_kind</th>\n",
       "      <th>promo_total</th>\n",
       "      <th>total_weight</th>\n",
       "      <th>platform</th>\n",
       "      <th>os</th>\n",
       "      <th>shipped_at</th>\n",
       "    </tr>\n",
       "  </thead>\n",
       "  <tbody>\n",
       "    <tr>\n",
       "      <th>0</th>\n",
       "      <td>4077</td>\n",
       "      <td>4058639</td>\n",
       "      <td>178163</td>\n",
       "      <td>1291559</td>\n",
       "      <td>2017-05-10 10:16:41</td>\n",
       "      <td>2020-03-13 11:57:53</td>\n",
       "      <td>2020-03-15 12:00:00</td>\n",
       "      <td>METRO</td>\n",
       "      <td>canceled</td>\n",
       "      <td>canceled</td>\n",
       "      <td>Москва</td>\n",
       "      <td>1</td>\n",
       "      <td>158.0</td>\n",
       "      <td>0</td>\n",
       "      <td>courier</td>\n",
       "      <td>0.0</td>\n",
       "      <td>27610</td>\n",
       "      <td>web</td>\n",
       "      <td>windows</td>\n",
       "      <td>NaN</td>\n",
       "    </tr>\n",
       "    <tr>\n",
       "      <th>1</th>\n",
       "      <td>48861</td>\n",
       "      <td>271117</td>\n",
       "      <td>383088</td>\n",
       "      <td>3015822</td>\n",
       "      <td>2018-02-27 10:48:13</td>\n",
       "      <td>2020-04-24 21:09:15</td>\n",
       "      <td>2020-04-30 07:00:00</td>\n",
       "      <td>METRO</td>\n",
       "      <td>complete</td>\n",
       "      <td>shipped</td>\n",
       "      <td>Москва</td>\n",
       "      <td>3</td>\n",
       "      <td>499.0</td>\n",
       "      <td>0</td>\n",
       "      <td>courier</td>\n",
       "      <td>0.0</td>\n",
       "      <td>87806</td>\n",
       "      <td>web</td>\n",
       "      <td>windows</td>\n",
       "      <td>2020-04-30 12:53:17</td>\n",
       "    </tr>\n",
       "    <tr>\n",
       "      <th>2</th>\n",
       "      <td>3119</td>\n",
       "      <td>276189</td>\n",
       "      <td>385477</td>\n",
       "      <td>3019844</td>\n",
       "      <td>2018-03-01 11:58:09</td>\n",
       "      <td>2020-04-25 17:30:52</td>\n",
       "      <td>2020-04-26 12:00:00</td>\n",
       "      <td>METRO</td>\n",
       "      <td>complete</td>\n",
       "      <td>shipped</td>\n",
       "      <td>Москва</td>\n",
       "      <td>14</td>\n",
       "      <td>158.0</td>\n",
       "      <td>0</td>\n",
       "      <td>courier</td>\n",
       "      <td>0.0</td>\n",
       "      <td>23029</td>\n",
       "      <td>web</td>\n",
       "      <td>windows</td>\n",
       "      <td>2020-04-26 11:54:23</td>\n",
       "    </tr>\n",
       "    <tr>\n",
       "      <th>3</th>\n",
       "      <td>60931</td>\n",
       "      <td>319599</td>\n",
       "      <td>435693</td>\n",
       "      <td>3095458</td>\n",
       "      <td>2018-04-18 09:45:14</td>\n",
       "      <td>2020-03-15 12:51:48</td>\n",
       "      <td>2020-03-16 20:00:00</td>\n",
       "      <td>METRO</td>\n",
       "      <td>complete</td>\n",
       "      <td>shipped</td>\n",
       "      <td>Москва</td>\n",
       "      <td>8</td>\n",
       "      <td>158.0</td>\n",
       "      <td>5</td>\n",
       "      <td>courier</td>\n",
       "      <td>0.0</td>\n",
       "      <td>8605</td>\n",
       "      <td>app</td>\n",
       "      <td>android</td>\n",
       "      <td>2020-03-16 21:29:10</td>\n",
       "    </tr>\n",
       "    <tr>\n",
       "      <th>4</th>\n",
       "      <td>87464</td>\n",
       "      <td>479940</td>\n",
       "      <td>506881</td>\n",
       "      <td>3234709</td>\n",
       "      <td>2018-06-21 12:12:33</td>\n",
       "      <td>2020-03-19 04:43:12</td>\n",
       "      <td>2020-03-25 07:00:00</td>\n",
       "      <td>METRO</td>\n",
       "      <td>complete</td>\n",
       "      <td>shipped</td>\n",
       "      <td>Москва</td>\n",
       "      <td>10</td>\n",
       "      <td>158.0</td>\n",
       "      <td>5</td>\n",
       "      <td>courier</td>\n",
       "      <td>0.0</td>\n",
       "      <td>21323</td>\n",
       "      <td>app</td>\n",
       "      <td>ios</td>\n",
       "      <td>2020-03-25 08:52:31</td>\n",
       "    </tr>\n",
       "  </tbody>\n",
       "</table>\n",
       "</div>"
      ],
      "text/plain": [
       "   user_id  ship_address_id  shipment_id  order_id     order_created_at  \\\n",
       "0     4077          4058639       178163   1291559  2017-05-10 10:16:41   \n",
       "1    48861           271117       383088   3015822  2018-02-27 10:48:13   \n",
       "2     3119           276189       385477   3019844  2018-03-01 11:58:09   \n",
       "3    60931           319599       435693   3095458  2018-04-18 09:45:14   \n",
       "4    87464           479940       506881   3234709  2018-06-21 12:12:33   \n",
       "\n",
       "    order_completed_at   shipment_starts_at retailer s.order_state  \\\n",
       "0  2020-03-13 11:57:53  2020-03-15 12:00:00    METRO      canceled   \n",
       "1  2020-04-24 21:09:15  2020-04-30 07:00:00    METRO      complete   \n",
       "2  2020-04-25 17:30:52  2020-04-26 12:00:00    METRO      complete   \n",
       "3  2020-03-15 12:51:48  2020-03-16 20:00:00    METRO      complete   \n",
       "4  2020-03-19 04:43:12  2020-03-25 07:00:00    METRO      complete   \n",
       "\n",
       "  shipment_state s.city_name  s.store_id  total_cost  rate  dw_kind  \\\n",
       "0       canceled      Москва           1       158.0     0  courier   \n",
       "1        shipped      Москва           3       499.0     0  courier   \n",
       "2        shipped      Москва          14       158.0     0  courier   \n",
       "3        shipped      Москва           8       158.0     5  courier   \n",
       "4        shipped      Москва          10       158.0     5  courier   \n",
       "\n",
       "   promo_total  total_weight platform       os           shipped_at  \n",
       "0          0.0         27610      web  windows                  NaN  \n",
       "1          0.0         87806      web  windows  2020-04-30 12:53:17  \n",
       "2          0.0         23029      web  windows  2020-04-26 11:54:23  \n",
       "3          0.0          8605      app  android  2020-03-16 21:29:10  \n",
       "4          0.0         21323      app      ios  2020-03-25 08:52:31  "
      ]
     },
     "execution_count": 22,
     "metadata": {},
     "output_type": "execute_result"
    }
   ],
   "source": [
    "shipments.head()"
   ]
  },
  {
   "cell_type": "code",
   "execution_count": 24,
   "metadata": {
    "id": "jX5sqCYhDXKz"
   },
   "outputs": [],
   "source": [
    "shipments['phone_id'] = shipments.ship_address_id.map(dict(addresses.values))\n",
    "shipments = pd.merge(shipments, shipments_reduced_info, on = 'shipment_id', how = 'left')"
   ]
  },
  {
   "cell_type": "markdown",
   "metadata": {
    "id": "wG72j8UrDXLD"
   },
   "source": [
    "###  Переводим ts фичи - формируем всевозможные временные дельты"
   ]
  },
  {
   "cell_type": "code",
   "execution_count": 25,
   "metadata": {
    "id": "7FmyahHcDXLH",
    "outputId": "12a24782-6c6e-480c-c558-e48ad727a82c"
   },
   "outputs": [
    {
     "name": "stderr",
     "output_type": "stream",
     "text": [
      "100%|██████████| 4/4 [01:10<00:00, 17.64s/it]\n"
     ]
    }
   ],
   "source": [
    "shipments['order_created_at'] = pd.to_datetime(shipments['order_created_at'], format='%Y-%m-%d %H:%M:%S')\n",
    "shipments['shipment_starts_at'] = pd.to_datetime(shipments['shipment_starts_at'], format='%Y-%m-%d %H:%M:%S')\n",
    "shipments['shipped_at'] = pd.to_datetime(shipments['shipped_at'], format='%Y-%m-%d %H:%M:%S')\n",
    "shipments['order_completed_at'] = pd.to_datetime(shipments['order_completed_at'], format='%Y-%m-%d %H:%M:%S')\n",
    "\n",
    "\n",
    "shipments['timediff_1'] = (shipments['order_created_at']-shipments['shipment_starts_at']).astype('timedelta64[h]')\n",
    "shipments['timediff_2'] = (shipments['order_created_at']-shipments['shipped_at']).astype('timedelta64[h]')\n",
    "shipments['timediff_3'] = (shipments['shipment_starts_at']-shipments['shipped_at']).astype('timedelta64[h]')\n",
    "shipments['timediff_4'] = (shipments['order_created_at']-shipments['order_completed_at']).astype('timedelta64[h]')\n",
    "shipments['timediff_5'] = (shipments['shipment_starts_at']-shipments['order_completed_at']).astype('timedelta64[h]')\n",
    "shipments['timediff_6'] = (shipments['shipped_at']-shipments['order_completed_at']).astype('timedelta64[h]')\n",
    "\n",
    "\n",
    "\n",
    "time_features = ['order_created_at', 'shipment_starts_at', 'shipped_at', 'order_completed_at']\n",
    "\n",
    "for i in tqdm.tqdm(time_features):\n",
    "\n",
    "        shipments[i+'_day'] = [x.day for x in shipments[i]]\n",
    "        shipments[i+'_year'] = [x.year for x in shipments[i]]\n",
    "        shipments[i+'_month'] = [x.month for x in shipments[i]]\n",
    "    "
   ]
  },
  {
   "cell_type": "code",
   "execution_count": 39,
   "metadata": {},
   "outputs": [
    {
     "data": {
      "text/plain": [
       "0         -24962.0\n",
       "1         -19029.0\n",
       "2         -18889.0\n",
       "3         -16763.0\n",
       "4         -15427.0\n",
       "            ...   \n",
       "2260681      -11.0\n",
       "2260682      -20.0\n",
       "2260683      -15.0\n",
       "2260684      -19.0\n",
       "2260685     -173.0\n",
       "Name: timediff_1, Length: 2260686, dtype: float64"
      ]
     },
     "execution_count": 39,
     "metadata": {},
     "output_type": "execute_result"
    }
   ],
   "source": []
  },
  {
   "cell_type": "markdown",
   "metadata": {
    "id": "a75iJYzqDXLY"
   },
   "source": [
    "### Feature engineering"
   ]
  },
  {
   "cell_type": "code",
   "execution_count": 26,
   "metadata": {
    "id": "HKnPr1TFDXLa",
    "outputId": "fada87bb-05f3-4f50-c82d-cd775c76fb01"
   },
   "outputs": [
    {
     "name": "stderr",
     "output_type": "stream",
     "text": [
      "0it [00:00, ?it/s]\n",
      "  0%|          | 0/8 [00:00<?, ?it/s]\u001b[A\n",
      " 12%|█▎        | 1/8 [01:06<07:35, 65.08s/it]\u001b[A\n",
      " 25%|██▌       | 2/8 [01:16<04:53, 48.87s/it]\u001b[A\n",
      " 38%|███▊      | 3/8 [01:20<02:58, 35.63s/it]\u001b[A\n",
      " 50%|█████     | 4/8 [01:24<01:44, 26.04s/it]\u001b[A\n",
      " 62%|██████▎   | 5/8 [01:26<00:56, 18.91s/it]\u001b[A\n",
      " 75%|███████▌  | 6/8 [01:28<00:27, 13.61s/it]\u001b[A\n",
      " 88%|████████▊ | 7/8 [01:28<00:09,  9.81s/it]\u001b[A\n",
      "100%|██████████| 8/8 [01:29<00:00, 11.22s/it]\u001b[A\n",
      "1it [01:43, 103.58s/it]\n"
     ]
    }
   ],
   "source": [
    "#\n",
    "#исправьте валидацию\n",
    "#\n",
    "\n",
    "for val_month, val_first_date in tqdm.tqdm(zip([8], ['2020-08-01'])):\n",
    "\n",
    "\n",
    "    train1 = pd.DataFrame(columns = ['phone_id', 'label'])\n",
    "    train0 = pd.DataFrame(columns = ['phone_id', 'label'])\n",
    "\n",
    "    train1['phone_id'] = shipments[shipments['order_completed_at_month'] == val_month].phone_id.drop_duplicates().values\n",
    "    train1['label'] = 1#были продажи\n",
    "\n",
    "    train0['phone_id'] = list(set(shipments['phone_id']) - set(train1['phone_id']))\n",
    "    train0['label'] = 0#не было продаж\n",
    "\n",
    "    train = pd.concat([train1, train0])\n",
    "\n",
    "\n",
    "    shipments_train = shipments[shipments['order_completed_at_month'] < val_month]\n",
    "\n",
    "    for num_day in tqdm.tqdm([365, 180, 120, 90, 60, 30, 15, 7]):\n",
    "\n",
    "        shipments_train_tmp = shipments_train[shipments_train['order_completed_at'] > np.datetime64(val_first_date) - np.timedelta64(num_day,'D')]# проверить\n",
    " \n",
    "\n",
    "        shipments_train_tmp['timediff_1'+str(num_day)] = shipments_train_tmp.groupby(['phone_id'])['timediff_1'].transform('mean')\n",
    "        shipments_train_tmp['timediff_2'+str(num_day)] = shipments_train_tmp.groupby(['phone_id'])['timediff_2'].transform('mean')\n",
    "        shipments_train_tmp['timediff_3'+str(num_day)] = shipments_train_tmp.groupby(['phone_id'])['timediff_3'].transform('mean')\n",
    "        shipments_train_tmp['timediff_4'+str(num_day)] = shipments_train_tmp.groupby(['phone_id'])['timediff_4'].transform('mean')\n",
    "        shipments_train_tmp['timediff_5'+str(num_day)] = shipments_train_tmp.groupby(['phone_id'])['timediff_5'].transform('mean')\n",
    "        shipments_train_tmp['timediff_6'+str(num_day)] = shipments_train_tmp.groupby(['phone_id'])['timediff_6'].transform('mean')\n",
    "        \n",
    "        \n",
    "        #\n",
    "        #добавьте сюда фичи\n",
    "        #\n",
    "        \n",
    "        shipments_train_tmp = shipments_train_tmp[['phone_id',\n",
    "                                                   'timediff_1'+str(num_day),\n",
    "                                                   'timediff_2'+str(num_day),\n",
    "                                                   'timediff_3'+str(num_day),\n",
    "                                                   'timediff_4'+str(num_day),\n",
    "                                                   'timediff_5'+str(num_day),\n",
    "                                                   'timediff_6'+str(num_day)\n",
    "                                                  ]].drop_duplicates()\n",
    "        \n",
    "        shipments_train_tmp = shipments_train_tmp.groupby('phone_id').max().reset_index()\n",
    "        \n",
    "\n",
    "        train = pd.merge(train, shipments_train_tmp, on = 'phone_id', how = 'left')\n",
    "        train = train.fillna(0)\n",
    "        \n",
    "    train['val_month'] = val_month\n",
    "        \n",
    "         \n",
    "          "
   ]
  },
  {
   "cell_type": "markdown",
   "metadata": {
    "id": "Boe8TPdGDXLu"
   },
   "source": [
    "### Обучаем модель"
   ]
  },
  {
   "cell_type": "code",
   "execution_count": 28,
   "metadata": {},
   "outputs": [
    {
     "name": "stdout",
     "output_type": "stream",
     "text": [
      "Collecting lightgbm\n",
      "\u001b[?25l  Downloading https://files.pythonhosted.org/packages/d6/4d/99073804bd31f15678f24a79e96981dcbaa840bc9926dfd132e9638d51bb/lightgbm-3.1.0-py2.py3-none-manylinux1_x86_64.whl (1.8MB)\n",
      "\u001b[K     |████████████████████████████████| 1.8MB 71kB/s eta 0:00:011\n",
      "\u001b[?25hRequirement already satisfied: numpy in /home/maximus/anaconda3/lib/python3.6/site-packages (from lightgbm) (1.18.0)\n",
      "Requirement already satisfied: scipy in /home/maximus/anaconda3/lib/python3.6/site-packages (from lightgbm) (1.4.1)\n",
      "Requirement already satisfied: scikit-learn!=0.22.0 in /home/maximus/anaconda3/lib/python3.6/site-packages (from lightgbm) (0.21.2)\n",
      "Requirement already satisfied: joblib>=0.11 in /home/maximus/anaconda3/lib/python3.6/site-packages (from scikit-learn!=0.22.0->lightgbm) (0.14.0)\n",
      "Installing collected packages: lightgbm\n",
      "Successfully installed lightgbm-3.1.0\n"
     ]
    }
   ],
   "source": [
    "!pip install lightgbm"
   ]
  },
  {
   "cell_type": "code",
   "execution_count": 29,
   "metadata": {
    "id": "yxOXc1oADXLy"
   },
   "outputs": [],
   "source": [
    "import lightgbm as lgb"
   ]
  },
  {
   "cell_type": "code",
   "execution_count": 36,
   "metadata": {},
   "outputs": [
    {
     "data": {
      "text/html": [
       "<div>\n",
       "<style scoped>\n",
       "    .dataframe tbody tr th:only-of-type {\n",
       "        vertical-align: middle;\n",
       "    }\n",
       "\n",
       "    .dataframe tbody tr th {\n",
       "        vertical-align: top;\n",
       "    }\n",
       "\n",
       "    .dataframe thead th {\n",
       "        text-align: right;\n",
       "    }\n",
       "</style>\n",
       "<table border=\"1\" class=\"dataframe\">\n",
       "  <thead>\n",
       "    <tr style=\"text-align: right;\">\n",
       "      <th></th>\n",
       "      <th>phone_id</th>\n",
       "      <th>label</th>\n",
       "      <th>timediff_1365</th>\n",
       "      <th>timediff_2365</th>\n",
       "      <th>timediff_3365</th>\n",
       "      <th>timediff_4365</th>\n",
       "      <th>timediff_5365</th>\n",
       "      <th>timediff_6365</th>\n",
       "      <th>timediff_1180</th>\n",
       "      <th>timediff_2180</th>\n",
       "      <th>...</th>\n",
       "      <th>timediff_415</th>\n",
       "      <th>timediff_515</th>\n",
       "      <th>timediff_615</th>\n",
       "      <th>timediff_17</th>\n",
       "      <th>timediff_27</th>\n",
       "      <th>timediff_37</th>\n",
       "      <th>timediff_47</th>\n",
       "      <th>timediff_57</th>\n",
       "      <th>timediff_67</th>\n",
       "      <th>val_month</th>\n",
       "    </tr>\n",
       "  </thead>\n",
       "  <tbody>\n",
       "    <tr>\n",
       "      <th>0</th>\n",
       "      <td>197574</td>\n",
       "      <td>1</td>\n",
       "      <td>0.0</td>\n",
       "      <td>0.0</td>\n",
       "      <td>0.0</td>\n",
       "      <td>0.0</td>\n",
       "      <td>0.0</td>\n",
       "      <td>0.0</td>\n",
       "      <td>0.0</td>\n",
       "      <td>0.0</td>\n",
       "      <td>...</td>\n",
       "      <td>0.0</td>\n",
       "      <td>0.0</td>\n",
       "      <td>0.0</td>\n",
       "      <td>0.0</td>\n",
       "      <td>0.0</td>\n",
       "      <td>0.0</td>\n",
       "      <td>0.0</td>\n",
       "      <td>0.0</td>\n",
       "      <td>0.0</td>\n",
       "      <td>8</td>\n",
       "    </tr>\n",
       "    <tr>\n",
       "      <th>1</th>\n",
       "      <td>122345</td>\n",
       "      <td>1</td>\n",
       "      <td>0.0</td>\n",
       "      <td>0.0</td>\n",
       "      <td>0.0</td>\n",
       "      <td>0.0</td>\n",
       "      <td>0.0</td>\n",
       "      <td>0.0</td>\n",
       "      <td>0.0</td>\n",
       "      <td>0.0</td>\n",
       "      <td>...</td>\n",
       "      <td>0.0</td>\n",
       "      <td>0.0</td>\n",
       "      <td>0.0</td>\n",
       "      <td>0.0</td>\n",
       "      <td>0.0</td>\n",
       "      <td>0.0</td>\n",
       "      <td>0.0</td>\n",
       "      <td>0.0</td>\n",
       "      <td>0.0</td>\n",
       "      <td>8</td>\n",
       "    </tr>\n",
       "    <tr>\n",
       "      <th>2</th>\n",
       "      <td>232926</td>\n",
       "      <td>1</td>\n",
       "      <td>0.0</td>\n",
       "      <td>0.0</td>\n",
       "      <td>0.0</td>\n",
       "      <td>0.0</td>\n",
       "      <td>0.0</td>\n",
       "      <td>0.0</td>\n",
       "      <td>0.0</td>\n",
       "      <td>0.0</td>\n",
       "      <td>...</td>\n",
       "      <td>0.0</td>\n",
       "      <td>0.0</td>\n",
       "      <td>0.0</td>\n",
       "      <td>0.0</td>\n",
       "      <td>0.0</td>\n",
       "      <td>0.0</td>\n",
       "      <td>0.0</td>\n",
       "      <td>0.0</td>\n",
       "      <td>0.0</td>\n",
       "      <td>8</td>\n",
       "    </tr>\n",
       "    <tr>\n",
       "      <th>3</th>\n",
       "      <td>236934</td>\n",
       "      <td>1</td>\n",
       "      <td>0.0</td>\n",
       "      <td>0.0</td>\n",
       "      <td>0.0</td>\n",
       "      <td>0.0</td>\n",
       "      <td>0.0</td>\n",
       "      <td>0.0</td>\n",
       "      <td>0.0</td>\n",
       "      <td>0.0</td>\n",
       "      <td>...</td>\n",
       "      <td>0.0</td>\n",
       "      <td>0.0</td>\n",
       "      <td>0.0</td>\n",
       "      <td>0.0</td>\n",
       "      <td>0.0</td>\n",
       "      <td>0.0</td>\n",
       "      <td>0.0</td>\n",
       "      <td>0.0</td>\n",
       "      <td>0.0</td>\n",
       "      <td>8</td>\n",
       "    </tr>\n",
       "    <tr>\n",
       "      <th>4</th>\n",
       "      <td>260786</td>\n",
       "      <td>1</td>\n",
       "      <td>0.0</td>\n",
       "      <td>0.0</td>\n",
       "      <td>0.0</td>\n",
       "      <td>0.0</td>\n",
       "      <td>0.0</td>\n",
       "      <td>0.0</td>\n",
       "      <td>0.0</td>\n",
       "      <td>0.0</td>\n",
       "      <td>...</td>\n",
       "      <td>0.0</td>\n",
       "      <td>0.0</td>\n",
       "      <td>0.0</td>\n",
       "      <td>0.0</td>\n",
       "      <td>0.0</td>\n",
       "      <td>0.0</td>\n",
       "      <td>0.0</td>\n",
       "      <td>0.0</td>\n",
       "      <td>0.0</td>\n",
       "      <td>8</td>\n",
       "    </tr>\n",
       "    <tr>\n",
       "      <th>...</th>\n",
       "      <td>...</td>\n",
       "      <td>...</td>\n",
       "      <td>...</td>\n",
       "      <td>...</td>\n",
       "      <td>...</td>\n",
       "      <td>...</td>\n",
       "      <td>...</td>\n",
       "      <td>...</td>\n",
       "      <td>...</td>\n",
       "      <td>...</td>\n",
       "      <td>...</td>\n",
       "      <td>...</td>\n",
       "      <td>...</td>\n",
       "      <td>...</td>\n",
       "      <td>...</td>\n",
       "      <td>...</td>\n",
       "      <td>...</td>\n",
       "      <td>...</td>\n",
       "      <td>...</td>\n",
       "      <td>...</td>\n",
       "      <td>...</td>\n",
       "    </tr>\n",
       "    <tr>\n",
       "      <th>606578</th>\n",
       "      <td>717478</td>\n",
       "      <td>0</td>\n",
       "      <td>-119.0</td>\n",
       "      <td>-121.0</td>\n",
       "      <td>-2.0</td>\n",
       "      <td>-117.0</td>\n",
       "      <td>1.0</td>\n",
       "      <td>3.0</td>\n",
       "      <td>-119.0</td>\n",
       "      <td>-121.0</td>\n",
       "      <td>...</td>\n",
       "      <td>0.0</td>\n",
       "      <td>0.0</td>\n",
       "      <td>0.0</td>\n",
       "      <td>0.0</td>\n",
       "      <td>0.0</td>\n",
       "      <td>0.0</td>\n",
       "      <td>0.0</td>\n",
       "      <td>0.0</td>\n",
       "      <td>0.0</td>\n",
       "      <td>8</td>\n",
       "    </tr>\n",
       "    <tr>\n",
       "      <th>606579</th>\n",
       "      <td>717480</td>\n",
       "      <td>0</td>\n",
       "      <td>-25.0</td>\n",
       "      <td>-28.0</td>\n",
       "      <td>-4.0</td>\n",
       "      <td>-19.0</td>\n",
       "      <td>6.0</td>\n",
       "      <td>9.0</td>\n",
       "      <td>-25.0</td>\n",
       "      <td>-28.0</td>\n",
       "      <td>...</td>\n",
       "      <td>0.0</td>\n",
       "      <td>0.0</td>\n",
       "      <td>0.0</td>\n",
       "      <td>0.0</td>\n",
       "      <td>0.0</td>\n",
       "      <td>0.0</td>\n",
       "      <td>0.0</td>\n",
       "      <td>0.0</td>\n",
       "      <td>0.0</td>\n",
       "      <td>8</td>\n",
       "    </tr>\n",
       "    <tr>\n",
       "      <th>606580</th>\n",
       "      <td>717481</td>\n",
       "      <td>0</td>\n",
       "      <td>-4.0</td>\n",
       "      <td>-4.0</td>\n",
       "      <td>-1.0</td>\n",
       "      <td>-2.0</td>\n",
       "      <td>1.0</td>\n",
       "      <td>2.0</td>\n",
       "      <td>-4.0</td>\n",
       "      <td>-4.0</td>\n",
       "      <td>...</td>\n",
       "      <td>0.0</td>\n",
       "      <td>0.0</td>\n",
       "      <td>0.0</td>\n",
       "      <td>0.0</td>\n",
       "      <td>0.0</td>\n",
       "      <td>0.0</td>\n",
       "      <td>0.0</td>\n",
       "      <td>0.0</td>\n",
       "      <td>0.0</td>\n",
       "      <td>8</td>\n",
       "    </tr>\n",
       "    <tr>\n",
       "      <th>606581</th>\n",
       "      <td>717482</td>\n",
       "      <td>0</td>\n",
       "      <td>-992.0</td>\n",
       "      <td>-994.0</td>\n",
       "      <td>-3.0</td>\n",
       "      <td>-989.0</td>\n",
       "      <td>3.0</td>\n",
       "      <td>5.0</td>\n",
       "      <td>-992.0</td>\n",
       "      <td>-994.0</td>\n",
       "      <td>...</td>\n",
       "      <td>0.0</td>\n",
       "      <td>0.0</td>\n",
       "      <td>0.0</td>\n",
       "      <td>0.0</td>\n",
       "      <td>0.0</td>\n",
       "      <td>0.0</td>\n",
       "      <td>0.0</td>\n",
       "      <td>0.0</td>\n",
       "      <td>0.0</td>\n",
       "      <td>8</td>\n",
       "    </tr>\n",
       "    <tr>\n",
       "      <th>606582</th>\n",
       "      <td>717483</td>\n",
       "      <td>0</td>\n",
       "      <td>-82.0</td>\n",
       "      <td>-82.0</td>\n",
       "      <td>-1.0</td>\n",
       "      <td>-80.0</td>\n",
       "      <td>2.0</td>\n",
       "      <td>2.0</td>\n",
       "      <td>-82.0</td>\n",
       "      <td>-82.0</td>\n",
       "      <td>...</td>\n",
       "      <td>0.0</td>\n",
       "      <td>0.0</td>\n",
       "      <td>0.0</td>\n",
       "      <td>0.0</td>\n",
       "      <td>0.0</td>\n",
       "      <td>0.0</td>\n",
       "      <td>0.0</td>\n",
       "      <td>0.0</td>\n",
       "      <td>0.0</td>\n",
       "      <td>8</td>\n",
       "    </tr>\n",
       "  </tbody>\n",
       "</table>\n",
       "<p>606583 rows × 51 columns</p>\n",
       "</div>"
      ],
      "text/plain": [
       "        phone_id  label  timediff_1365  timediff_2365  timediff_3365  \\\n",
       "0         197574      1            0.0            0.0            0.0   \n",
       "1         122345      1            0.0            0.0            0.0   \n",
       "2         232926      1            0.0            0.0            0.0   \n",
       "3         236934      1            0.0            0.0            0.0   \n",
       "4         260786      1            0.0            0.0            0.0   \n",
       "...          ...    ...            ...            ...            ...   \n",
       "606578    717478      0         -119.0         -121.0           -2.0   \n",
       "606579    717480      0          -25.0          -28.0           -4.0   \n",
       "606580    717481      0           -4.0           -4.0           -1.0   \n",
       "606581    717482      0         -992.0         -994.0           -3.0   \n",
       "606582    717483      0          -82.0          -82.0           -1.0   \n",
       "\n",
       "        timediff_4365  timediff_5365  timediff_6365  timediff_1180  \\\n",
       "0                 0.0            0.0            0.0            0.0   \n",
       "1                 0.0            0.0            0.0            0.0   \n",
       "2                 0.0            0.0            0.0            0.0   \n",
       "3                 0.0            0.0            0.0            0.0   \n",
       "4                 0.0            0.0            0.0            0.0   \n",
       "...               ...            ...            ...            ...   \n",
       "606578         -117.0            1.0            3.0         -119.0   \n",
       "606579          -19.0            6.0            9.0          -25.0   \n",
       "606580           -2.0            1.0            2.0           -4.0   \n",
       "606581         -989.0            3.0            5.0         -992.0   \n",
       "606582          -80.0            2.0            2.0          -82.0   \n",
       "\n",
       "        timediff_2180  ...  timediff_415  timediff_515  timediff_615  \\\n",
       "0                 0.0  ...           0.0           0.0           0.0   \n",
       "1                 0.0  ...           0.0           0.0           0.0   \n",
       "2                 0.0  ...           0.0           0.0           0.0   \n",
       "3                 0.0  ...           0.0           0.0           0.0   \n",
       "4                 0.0  ...           0.0           0.0           0.0   \n",
       "...               ...  ...           ...           ...           ...   \n",
       "606578         -121.0  ...           0.0           0.0           0.0   \n",
       "606579          -28.0  ...           0.0           0.0           0.0   \n",
       "606580           -4.0  ...           0.0           0.0           0.0   \n",
       "606581         -994.0  ...           0.0           0.0           0.0   \n",
       "606582          -82.0  ...           0.0           0.0           0.0   \n",
       "\n",
       "        timediff_17  timediff_27  timediff_37  timediff_47  timediff_57  \\\n",
       "0               0.0          0.0          0.0          0.0          0.0   \n",
       "1               0.0          0.0          0.0          0.0          0.0   \n",
       "2               0.0          0.0          0.0          0.0          0.0   \n",
       "3               0.0          0.0          0.0          0.0          0.0   \n",
       "4               0.0          0.0          0.0          0.0          0.0   \n",
       "...             ...          ...          ...          ...          ...   \n",
       "606578          0.0          0.0          0.0          0.0          0.0   \n",
       "606579          0.0          0.0          0.0          0.0          0.0   \n",
       "606580          0.0          0.0          0.0          0.0          0.0   \n",
       "606581          0.0          0.0          0.0          0.0          0.0   \n",
       "606582          0.0          0.0          0.0          0.0          0.0   \n",
       "\n",
       "        timediff_67  val_month  \n",
       "0               0.0          8  \n",
       "1               0.0          8  \n",
       "2               0.0          8  \n",
       "3               0.0          8  \n",
       "4               0.0          8  \n",
       "...             ...        ...  \n",
       "606578          0.0          8  \n",
       "606579          0.0          8  \n",
       "606580          0.0          8  \n",
       "606581          0.0          8  \n",
       "606582          0.0          8  \n",
       "\n",
       "[606583 rows x 51 columns]"
      ]
     },
     "execution_count": 36,
     "metadata": {},
     "output_type": "execute_result"
    }
   ],
   "source": [
    "train"
   ]
  },
  {
   "cell_type": "code",
   "execution_count": null,
   "metadata": {
    "id": "rYxXeaEKDXL9"
   },
   "outputs": [],
   "source": [
    "train = train[train.val_month == 8]"
   ]
  },
  {
   "cell_type": "code",
   "execution_count": null,
   "metadata": {
    "id": "uPVPyPPeDXMM"
   },
   "outputs": [],
   "source": [
    "#\n",
    "#потюнить параметры\n",
    "#\n",
    "\n",
    "import lightgbm as lgb\n",
    "\n",
    "params = {\n",
    "    'objective': 'binary',\n",
    "    'learning_rate': 0.01,\n",
    "    #'num_leaves': 80,\n",
    "    'random_seed':666,\n",
    "     #'num_leaves': 50, \n",
    "     #'bagging_freq': 5, \n",
    "     #'min_child_samples': 23, \n",
    "     #'min_data_in_leaf': 20,  \n",
    "     #'feature_fraction': 0.4, \n",
    "     #'bagging_fraction': 0.9, \n",
    "     #'min_sum_hessian_in_leaf': 10,\n",
    "     #'max_depth' : 8\n",
    "    \n",
    "}\n"
   ]
  },
  {
   "cell_type": "code",
   "execution_count": null,
   "metadata": {
    "id": "Fd7MgXYQDXMU"
   },
   "outputs": [],
   "source": [
    "pred_list = []\n",
    "true_list = []\n",
    "val_list = []\n",
    "X = train.drop(['label'], axis = 1)\n",
    "y = train.label"
   ]
  },
  {
   "cell_type": "code",
   "execution_count": null,
   "metadata": {
    "id": "Q5vILUT0DXMi",
    "outputId": "bd82ce4d-d4dc-41e5-8cfb-67ed7ee74138"
   },
   "outputs": [
    {
     "name": "stdout",
     "output_type": "stream",
     "text": [
      "[LightGBM] [Info] Number of positive: 146561, number of negative: 259849\n",
      "[LightGBM] [Warning] Auto-choosing col-wise multi-threading, the overhead of testing was 0.070094 seconds.\n",
      "You can set `force_col_wise=true` to remove the overhead.\n",
      "[LightGBM] [Info] Total Bins 11579\n",
      "[LightGBM] [Info] Number of data points in the train set: 406410, number of used features: 49\n",
      "[LightGBM] [Info] [binary:BoostFromScore]: pavg=0.360624 -> initscore=-0.572659\n",
      "[LightGBM] [Info] Start training from score -0.572659\n",
      "Training until validation scores don't improve for 100 rounds\n",
      "[100]\ttraining's binary_logloss: 0.409258\tvalid_1's binary_logloss: 0.408542\n",
      "[200]\ttraining's binary_logloss: 0.35317\tvalid_1's binary_logloss: 0.352539\n",
      "[300]\ttraining's binary_logloss: 0.336712\tvalid_1's binary_logloss: 0.336403\n",
      "[400]\ttraining's binary_logloss: 0.330856\tvalid_1's binary_logloss: 0.330944\n",
      "[500]\ttraining's binary_logloss: 0.328175\tvalid_1's binary_logloss: 0.32876\n",
      "[600]\ttraining's binary_logloss: 0.326641\tvalid_1's binary_logloss: 0.327735\n",
      "[700]\ttraining's binary_logloss: 0.32557\tvalid_1's binary_logloss: 0.327194\n",
      "[800]\ttraining's binary_logloss: 0.324649\tvalid_1's binary_logloss: 0.326796\n",
      "[900]\ttraining's binary_logloss: 0.323837\tvalid_1's binary_logloss: 0.326492\n",
      "[1000]\ttraining's binary_logloss: 0.323131\tvalid_1's binary_logloss: 0.326301\n",
      "[1100]\ttraining's binary_logloss: 0.322388\tvalid_1's binary_logloss: 0.326069\n",
      "[1200]\ttraining's binary_logloss: 0.321736\tvalid_1's binary_logloss: 0.325949\n",
      "[1300]\ttraining's binary_logloss: 0.321114\tvalid_1's binary_logloss: 0.325844\n",
      "[1400]\ttraining's binary_logloss: 0.320491\tvalid_1's binary_logloss: 0.325731\n",
      "[1500]\ttraining's binary_logloss: 0.319879\tvalid_1's binary_logloss: 0.325624\n",
      "[1600]\ttraining's binary_logloss: 0.319307\tvalid_1's binary_logloss: 0.325582\n",
      "[1700]\ttraining's binary_logloss: 0.318698\tvalid_1's binary_logloss: 0.325465\n",
      "[1800]\ttraining's binary_logloss: 0.318141\tvalid_1's binary_logloss: 0.3254\n",
      "[1900]\ttraining's binary_logloss: 0.317583\tvalid_1's binary_logloss: 0.325327\n",
      "[2000]\ttraining's binary_logloss: 0.317032\tvalid_1's binary_logloss: 0.325262\n",
      "[2100]\ttraining's binary_logloss: 0.31651\tvalid_1's binary_logloss: 0.325197\n",
      "[2200]\ttraining's binary_logloss: 0.315972\tvalid_1's binary_logloss: 0.325144\n",
      "[2300]\ttraining's binary_logloss: 0.31547\tvalid_1's binary_logloss: 0.325112\n",
      "[2400]\ttraining's binary_logloss: 0.314965\tvalid_1's binary_logloss: 0.325075\n",
      "[2500]\ttraining's binary_logloss: 0.314468\tvalid_1's binary_logloss: 0.325042\n",
      "[2600]\ttraining's binary_logloss: 0.313989\tvalid_1's binary_logloss: 0.325006\n",
      "[2700]\ttraining's binary_logloss: 0.31351\tvalid_1's binary_logloss: 0.324979\n",
      "[2800]\ttraining's binary_logloss: 0.313032\tvalid_1's binary_logloss: 0.32495\n",
      "[2900]\ttraining's binary_logloss: 0.312561\tvalid_1's binary_logloss: 0.324935\n",
      "[3000]\ttraining's binary_logloss: 0.312068\tvalid_1's binary_logloss: 0.324913\n",
      "[3100]\ttraining's binary_logloss: 0.3116\tvalid_1's binary_logloss: 0.32492\n",
      "Early stopping, best iteration is:\n",
      "[3036]\ttraining's binary_logloss: 0.311903\tvalid_1's binary_logloss: 0.324912\n"
     ]
    }
   ],
   "source": [
    "from sklearn.model_selection import train_test_split\n",
    "\n",
    "\n",
    "for rs in [42]:\n",
    "\n",
    "    X_train, X_test, y_train, y_test = train_test_split(\n",
    "         X, y, test_size=0.33, random_state=rs)\n",
    "    \n",
    "    lgb_train = lgb.Dataset(X_train, y_train)\n",
    "    lgb_eval = lgb.Dataset(X_test, y_test, reference=lgb_train)\n",
    "\n",
    "\n",
    "    model = lgb.train(\n",
    "        params, lgb_train,\n",
    "        valid_sets=[lgb_train, lgb_eval],\n",
    "        verbose_eval=100,\n",
    "        num_boost_round=20000,\n",
    "        early_stopping_rounds=100\n",
    "    )\n",
    "\n",
    "    pred_list.append(model.predict(test[X_train.columns]))\n",
    "    true_list.append(y_test)\n",
    "    val_list.append(model.predict(X_test[X_train.columns]))\n"
   ]
  },
  {
   "cell_type": "code",
   "execution_count": null,
   "metadata": {
    "id": "TYvLc8fsDXMt",
    "outputId": "a881bb89-504a-46c1-ca48-04a7788fe878"
   },
   "outputs": [
    {
     "data": {
      "text/plain": [
       "0.7965099874839933"
      ]
     },
     "execution_count": 94,
     "metadata": {
      "tags": []
     },
     "output_type": "execute_result"
    }
   ],
   "source": [
    "i = 0\n",
    "f1_score(true_list[i], val_list[i]>0.42)"
   ]
  }
 ],
 "metadata": {
  "colab": {
   "name": "churn_prediction_baseline.ipynb",
   "provenance": []
  },
  "kernelspec": {
   "display_name": "Python 3",
   "language": "python",
   "name": "python3"
  },
  "language_info": {
   "codemirror_mode": {
    "name": "ipython",
    "version": 3
   },
   "file_extension": ".py",
   "mimetype": "text/x-python",
   "name": "python",
   "nbconvert_exporter": "python",
   "pygments_lexer": "ipython3",
   "version": "3.8.5"
  }
 },
 "nbformat": 4,
 "nbformat_minor": 1
}
